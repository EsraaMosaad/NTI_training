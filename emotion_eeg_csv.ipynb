{
  "cells": [
    {
      "cell_type": "markdown",
      "metadata": {
        "id": "view-in-github",
        "colab_type": "text"
      },
      "source": [
        "<a href=\"https://colab.research.google.com/github/EsraaMosaad/NTI_training/blob/main/emotion_eeg_csv.ipynb\" target=\"_parent\"><img src=\"https://colab.research.google.com/assets/colab-badge.svg\" alt=\"Open In Colab\"/></a>"
      ]
    },
    {
      "cell_type": "code",
      "execution_count": null,
      "metadata": {
        "id": "9c5mHrbVEv2W"
      },
      "outputs": [],
      "source": [
        "import pandas as pd\n",
        "from sklearn.model_selection import train_test_split\n",
        "from keras.layers import LSTM,Dropout,Dense,TimeDistributed,Conv1D,MaxPooling1D,Flatten\n",
        "from keras.models import Sequential\n",
        "import tensorflow as tf\n",
        "import numpy as np"
      ]
    },
    {
      "cell_type": "code",
      "execution_count": null,
      "metadata": {
        "colab": {
          "base_uri": "https://localhost:8080/",
          "height": 243
        },
        "id": "Gj6ioU19EQ6v",
        "outputId": "cd642c5e-e77e-4a83-feed-8de07eab9247"
      },
      "outputs": [
        {
          "output_type": "error",
          "ename": "NameError",
          "evalue": "ignored",
          "traceback": [
            "\u001b[0;31m---------------------------------------------------------------------------\u001b[0m",
            "\u001b[0;31mNameError\u001b[0m                                 Traceback (most recent call last)",
            "\u001b[0;32m<ipython-input-1-a43725336b15>\u001b[0m in \u001b[0;36m<module>\u001b[0;34m\u001b[0m\n\u001b[0;32m----> 1\u001b[0;31m \u001b[0mdata\u001b[0m\u001b[0;34m=\u001b[0m\u001b[0mpd\u001b[0m\u001b[0;34m.\u001b[0m\u001b[0mread_csv\u001b[0m\u001b[0;34m(\u001b[0m\u001b[0;34m'/content/emotions.csv'\u001b[0m\u001b[0;34m)\u001b[0m\u001b[0;34m\u001b[0m\u001b[0;34m\u001b[0m\u001b[0m\n\u001b[0m\u001b[1;32m      2\u001b[0m \u001b[0;31m# x=data[:,0:]\u001b[0m\u001b[0;34m\u001b[0m\u001b[0;34m\u001b[0m\u001b[0;34m\u001b[0m\u001b[0m\n\u001b[1;32m      3\u001b[0m \u001b[0mdata\u001b[0m\u001b[0;34m.\u001b[0m\u001b[0mshape\u001b[0m\u001b[0;34m\u001b[0m\u001b[0;34m\u001b[0m\u001b[0m\n\u001b[1;32m      4\u001b[0m \u001b[0mx\u001b[0m\u001b[0;34m=\u001b[0m\u001b[0mdata\u001b[0m\u001b[0;34m.\u001b[0m\u001b[0miloc\u001b[0m\u001b[0;34m[\u001b[0m\u001b[0;34m:\u001b[0m\u001b[0;34m,\u001b[0m\u001b[0;36m0\u001b[0m\u001b[0;34m:\u001b[0m\u001b[0;36m2548\u001b[0m\u001b[0;34m]\u001b[0m\u001b[0;34m\u001b[0m\u001b[0;34m\u001b[0m\u001b[0m\n\u001b[1;32m      5\u001b[0m \u001b[0mdata\u001b[0m\u001b[0;34m.\u001b[0m\u001b[0mshape\u001b[0m\u001b[0;34m\u001b[0m\u001b[0;34m\u001b[0m\u001b[0m\n",
            "\u001b[0;31mNameError\u001b[0m: name 'pd' is not defined"
          ]
        }
      ],
      "source": [
        "data=pd.read_csv('/content/emotions.csv')\n",
        "# x=data[:,0:]\n",
        "data.shape\n",
        "x=data.iloc[:,0:2548]\n",
        "data.shape\n",
        "label=data.iloc[:,-1]\n",
        "label\n",
        "data.shape"
      ]
    },
    {
      "cell_type": "markdown",
      "metadata": {
        "id": "UXrlgbhnNis2"
      },
      "source": [
        "NEGATIVE=100 and POSITIVE=010 and NEUTRAL= 001"
      ]
    },
    {
      "cell_type": "code",
      "execution_count": null,
      "metadata": {
        "id": "AeWGYA2YXu0I"
      },
      "outputs": [],
      "source": [
        "data"
      ]
    },
    {
      "cell_type": "code",
      "execution_count": null,
      "metadata": {
        "id": "VUEkRjpDJ1FT"
      },
      "outputs": [],
      "source": [
        "def tran_mathscore(x):\n",
        "    if x=='NEGATIVE':\n",
        "      return 0\n",
        "    elif x=='POSITIVE':\n",
        "      return 1\n",
        "    elif x=='NEUTRAL':\n",
        "      return 2"
      ]
    },
    {
      "cell_type": "code",
      "execution_count": null,
      "metadata": {
        "colab": {
          "base_uri": "https://localhost:8080/"
        },
        "id": "lxnB79F-OR0a",
        "outputId": "18185ded-e2e5-4274-b85c-038f142384d7"
      },
      "outputs": [
        {
          "name": "stdout",
          "output_type": "stream",
          "text": [
            "0    0.0\n",
            "1    2.0\n",
            "2    1.0\n",
            "3    1.0\n",
            "4    2.0\n",
            "5    2.0\n",
            "6    1.0\n",
            "7    0.0\n",
            "8    2.0\n",
            "9    0.0\n",
            "Name: label, dtype: float64 0    NEGATIVE\n",
            "1     NEUTRAL\n",
            "2    POSITIVE\n",
            "3    POSITIVE\n",
            "4     NEUTRAL\n",
            "5     NEUTRAL\n",
            "6    POSITIVE\n",
            "7    NEGATIVE\n",
            "8     NEUTRAL\n",
            "9    NEGATIVE\n",
            "Name: label, dtype: object\n"
          ]
        }
      ],
      "source": [
        "y=label.apply(tran_mathscore)\n",
        "print(y[:10],label[:10])"
      ]
    },
    {
      "cell_type": "code",
      "execution_count": null,
      "metadata": {
        "colab": {
          "base_uri": "https://localhost:8080/"
        },
        "id": "pom9eew-QwIk",
        "outputId": "1c1b8f12-c76f-4a25-d796-a6f9de4c7591"
      },
      "outputs": [
        {
          "data": {
            "text/plain": [
              "(628, 2548)"
            ]
          },
          "execution_count": 11,
          "metadata": {},
          "output_type": "execute_result"
        }
      ],
      "source": [
        "x_train, x_test, y_train, y_test = train_test_split(x, y,test_size=0.40)\n",
        "x_train.shape"
      ]
    },
    {
      "cell_type": "code",
      "execution_count": null,
      "metadata": {
        "id": "s9L-bfixhxsF"
      },
      "outputs": [],
      "source": [
        "tf.keras.layers.GRU?"
      ]
    },
    {
      "cell_type": "code",
      "execution_count": null,
      "metadata": {
        "colab": {
          "base_uri": "https://localhost:8080/"
        },
        "id": "6hZxe8JEZGdi",
        "outputId": "acf36191-9da3-4e88-8b58-eb2cdf324bdf"
      },
      "outputs": [
        {
          "name": "stdout",
          "output_type": "stream",
          "text": [
            "(None, 2548, 1)\n",
            "Model: \"model_3\"\n",
            "_________________________________________________________________\n",
            " Layer (type)                Output Shape              Param #   \n",
            "=================================================================\n",
            " input_5 (InputLayer)        [(None, 2548)]            0         \n",
            "                                                                 \n",
            " tf.expand_dims_4 (TFOpLambd  (None, 2548, 1)          0         \n",
            " a)                                                              \n",
            "                                                                 \n",
            " gru_3 (GRU)                 (None, 2548, 256)         198912    \n",
            "                                                                 \n",
            " flatten_3 (Flatten)         (None, 652288)            0         \n",
            "                                                                 \n",
            " dense_3 (Dense)             (None, 3)                 1956867   \n",
            "                                                                 \n",
            "=================================================================\n",
            "Total params: 2,155,779\n",
            "Trainable params: 2,155,779\n",
            "Non-trainable params: 0\n",
            "_________________________________________________________________\n",
            "None\n"
          ]
        }
      ],
      "source": [
        "inputs = tf.keras.Input(shape=(x_train.shape[1],))\n",
        "\n",
        "expand_dims = tf.expand_dims(inputs, axis=2)\n",
        "print(expand_dims.shape)\n",
        "\n",
        "gru = tf.keras.layers.GRU(256, return_sequences=True)(expand_dims)\n",
        "\n",
        "flatten = tf.keras.layers.Flatten()(gru)\n",
        "\n",
        "outputs = tf.keras.layers.Dense(3, activation='softmax')(flatten)\n",
        "\n",
        "\n",
        "model = tf.keras.Model(inputs=inputs, outputs=outputs)\n",
        "print(model.summary())"
      ]
    },
    {
      "cell_type": "code",
      "execution_count": null,
      "metadata": {
        "colab": {
          "background_save": true,
          "base_uri": "https://localhost:8080/"
        },
        "id": "LPlH1uFYZX7J",
        "outputId": "97504dc8-aad3-46aa-9337-e3ccd25b2f64"
      },
      "outputs": [
        {
          "name": "stdout",
          "output_type": "stream",
          "text": [
            "Epoch 1/50\n",
            "43/43 [==============================] - 277s 6s/step - loss: 34.4395 - accuracy: 0.7940 - val_loss: 11.6800 - val_accuracy: 0.8211\n",
            "Epoch 2/50\n",
            "43/43 [==============================] - 268s 6s/step - loss: 4.8529 - accuracy: 0.9098 - val_loss: 1.8596 - val_accuracy: 0.9589\n",
            "Epoch 3/50\n",
            "43/43 [==============================] - 279s 7s/step - loss: 1.8183 - accuracy: 0.9516 - val_loss: 1.8242 - val_accuracy: 0.9531\n",
            "Epoch 4/50\n",
            "43/43 [==============================] - 270s 6s/step - loss: 0.8900 - accuracy: 0.9765 - val_loss: 0.5212 - val_accuracy: 0.9707\n",
            "Epoch 5/50\n",
            "43/43 [==============================] - 270s 6s/step - loss: 0.2636 - accuracy: 0.9853 - val_loss: 4.0474 - val_accuracy: 0.9032\n",
            "Epoch 6/50\n",
            "43/43 [==============================] - 269s 6s/step - loss: 1.8843 - accuracy: 0.9648 - val_loss: 1.7552 - val_accuracy: 0.9531\n",
            "Epoch 7/50\n",
            "43/43 [==============================] - 268s 6s/step - loss: 0.3603 - accuracy: 0.9941 - val_loss: 1.0700 - val_accuracy: 0.9795\n",
            "Epoch 8/50\n",
            "43/43 [==============================] - 268s 6s/step - loss: 0.1657 - accuracy: 0.9963 - val_loss: 0.6649 - val_accuracy: 0.9824\n",
            "Epoch 9/50\n",
            "43/43 [==============================] - 267s 6s/step - loss: 0.1266 - accuracy: 0.9956 - val_loss: 2.0565 - val_accuracy: 0.9619\n"
          ]
        }
      ],
      "source": [
        "model.compile(\n",
        "    optimizer='adam',\n",
        "    loss='sparse_categorical_crossentropy',\n",
        "    metrics=['accuracy']\n",
        ")\n",
        "\n",
        "history = model.fit(\n",
        "    x_train,\n",
        "    y_train,\n",
        "    validation_split=0.2,\n",
        "    batch_size=32,\n",
        "    epochs=50,\n",
        "    callbacks=[\n",
        "        tf.keras.callbacks.EarlyStopping(\n",
        "            monitor='val_loss',\n",
        "            patience=5,\n",
        "            restore_best_weights=True\n",
        "        )\n",
        "    ]\n",
        ")"
      ]
    },
    {
      "cell_type": "code",
      "execution_count": null,
      "metadata": {
        "colab": {
          "base_uri": "https://localhost:8080/"
        },
        "id": "I0TDveJBfLTb",
        "outputId": "e798809b-1da2-4113-c688-2766253b1eab"
      },
      "outputs": [
        {
          "name": "stdout",
          "output_type": "stream",
          "text": [
            "14/14 [==============================] - 1s 54ms/step - loss: nan - accuracy: 0.9452\n"
          ]
        },
        {
          "data": {
            "text/plain": [
              "[nan, 0.9452381134033203]"
            ]
          },
          "execution_count": 20,
          "metadata": {},
          "output_type": "execute_result"
        }
      ],
      "source": [
        "model.evaluate(x_test, y_test)"
      ]
    },
    {
      "cell_type": "code",
      "execution_count": null,
      "metadata": {
        "colab": {
          "base_uri": "https://localhost:8080/"
        },
        "id": "Szkb62v6fr0m",
        "outputId": "231193d4-c4df-4e78-81f1-16cfcb038fc1"
      },
      "outputs": [
        {
          "data": {
            "text/plain": [
              "array([[1., 0., 0.],\n",
              "       [0., 0., 1.],\n",
              "       [0., 1., 0.],\n",
              "       ...,\n",
              "       [0., 0., 1.],\n",
              "       [0., 0., 1.],\n",
              "       [0., 1., 0.]], dtype=float32)"
            ]
          },
          "execution_count": 22,
          "metadata": {},
          "output_type": "execute_result"
        }
      ],
      "source": [
        "model.predict(x_test)"
      ]
    },
    {
      "cell_type": "code",
      "execution_count": null,
      "metadata": {
        "id": "XNQ-LMMGD-Kb"
      },
      "outputs": [],
      "source": []
    }
  ],
  "metadata": {
    "accelerator": "GPU",
    "colab": {
      "provenance": [],
      "authorship_tag": "ABX9TyMVBUR4PaHEe27RSKbtu5jf",
      "include_colab_link": true
    },
    "kernelspec": {
      "display_name": "Python 3",
      "name": "python3"
    },
    "language_info": {
      "name": "python"
    }
  },
  "nbformat": 4,
  "nbformat_minor": 0
}