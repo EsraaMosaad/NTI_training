{
  "nbformat": 4,
  "nbformat_minor": 0,
  "metadata": {
    "kernelspec": {
      "display_name": "Python 3",
      "language": "python",
      "name": "python3"
    },
    "language_info": {
      "codemirror_mode": {
        "name": "ipython",
        "version": 3
      },
      "file_extension": ".py",
      "mimetype": "text/x-python",
      "name": "python",
      "nbconvert_exporter": "python",
      "pygments_lexer": "ipython3",
      "version": "3.8.10"
    },
    "colab": {
      "provenance": [],
      "include_colab_link": true
    }
  },
  "cells": [
    {
      "cell_type": "markdown",
      "metadata": {
        "id": "view-in-github",
        "colab_type": "text"
      },
      "source": [
        "<a href=\"https://colab.research.google.com/github/EsraaMosaad/NTI_training/blob/main/1_AlexNet_Covid19_x_ray_google_cloud_binary_(1).ipynb\" target=\"_parent\"><img src=\"https://colab.research.google.com/assets/colab-badge.svg\" alt=\"Open In Colab\"/></a>"
      ]
    },
    {
      "cell_type": "code",
      "metadata": {
        "id": "0hKS2vMAmJyy",
        "colab": {
          "base_uri": "https://localhost:8080/"
        },
        "outputId": "be48c4b6-9274-406b-ecc5-7fe6026c04ff"
      },
      "source": [
        "!wget http://cb.lk/covid_19  \n",
        "!unzip covid_19"
      ],
      "execution_count": null,
      "outputs": [
        {
          "output_type": "stream",
          "name": "stdout",
          "text": [
            "--2022-09-14 20:22:49--  http://cb.lk/covid_19\n",
            "Resolving cb.lk (cb.lk)... 104.21.72.203, 172.67.187.81, 2606:4700:3032::ac43:bb51, ...\n",
            "Connecting to cb.lk (cb.lk)|104.21.72.203|:80... connected.\n",
            "HTTP request sent, awaiting response... 301 Moved Permanently\n",
            "Location: https://cb.lk/covid_19 [following]\n",
            "--2022-09-14 20:22:49--  https://cb.lk/covid_19\n",
            "Connecting to cb.lk (cb.lk)|104.21.72.203|:443... connected.\n",
            "HTTP request sent, awaiting response... 302 Found\n",
            "Location: https://www.dropbox.com/s/7rjw6oet4za01op/CovidDataset-20200427T133042Z-001.zip?dl=0 [following]\n",
            "--2022-09-14 20:22:50--  https://www.dropbox.com/s/7rjw6oet4za01op/CovidDataset-20200427T133042Z-001.zip?dl=0\n",
            "Resolving www.dropbox.com (www.dropbox.com)... 162.125.1.18, 2620:100:6017:18::a27d:212\n",
            "Connecting to www.dropbox.com (www.dropbox.com)|162.125.1.18|:443... connected.\n",
            "HTTP request sent, awaiting response... 302 Found\n",
            "Location: /s/raw/7rjw6oet4za01op/CovidDataset-20200427T133042Z-001.zip [following]\n",
            "--2022-09-14 20:22:51--  https://www.dropbox.com/s/raw/7rjw6oet4za01op/CovidDataset-20200427T133042Z-001.zip\n",
            "Reusing existing connection to www.dropbox.com:443.\n",
            "HTTP request sent, awaiting response... 302 Found\n",
            "Location: https://uc45c84d381659c5b84f99e60a55.dl.dropboxusercontent.com/cd/0/inline/Bs-zNljAhrS2OwERqVsMGFVMid0rtgIp51m8n6xmOgizMTk0fhXH60beKJSY5FLN5giopR_z4gBRO-AkUGPZwOi616PTYwjmMkHl4xh3-bseb0N7nmpv2RhT_tdMMWzTeWMubYhjDldeQPLMN8HK9BeVByqsBd9pCZPl8mHpjfTurw/file# [following]\n",
            "--2022-09-14 20:22:51--  https://uc45c84d381659c5b84f99e60a55.dl.dropboxusercontent.com/cd/0/inline/Bs-zNljAhrS2OwERqVsMGFVMid0rtgIp51m8n6xmOgizMTk0fhXH60beKJSY5FLN5giopR_z4gBRO-AkUGPZwOi616PTYwjmMkHl4xh3-bseb0N7nmpv2RhT_tdMMWzTeWMubYhjDldeQPLMN8HK9BeVByqsBd9pCZPl8mHpjfTurw/file\n",
            "Resolving uc45c84d381659c5b84f99e60a55.dl.dropboxusercontent.com (uc45c84d381659c5b84f99e60a55.dl.dropboxusercontent.com)... 162.125.85.15, 2620:100:6017:15::a27d:20f\n",
            "Connecting to uc45c84d381659c5b84f99e60a55.dl.dropboxusercontent.com (uc45c84d381659c5b84f99e60a55.dl.dropboxusercontent.com)|162.125.85.15|:443... connected.\n",
            "HTTP request sent, awaiting response... 302 Found\n",
            "Location: /cd/0/inline2/Bs8RRNoR2T2zxaIVQylmN9z39vmsrsvF_hsdr19y4vlUghK5egtFP7WqpmXwoE8OMDnIs3q0UbeuACMFc3CFDT7swY6C8bZoASDLAm_SaXONpFBUF2lAoZPtRfiMin_HskDi3T7PliOWUT1LNCCQn4vYdoyP1h6ZbAWDsNAQ7KHWGV9Cd5bDC3WxnTD0oJVRy9I3DUQcFYFwk4PMdR_mfD3sPKvxoeTHvRZJCCwtbS7m7SqwCijt4NsYQi8_uMivd3MUf92Sgagj01KoIbu3RyZnTbnQJF7SJmDX4QNOjV-bm4wx1c_S2Z9oBcz9BF3qh3NROLQJTP6RTCH7MWGNhUBmLJBe7aZ5nVHrhQ5l4oS0sbQEue1q8ny7UI9JWUF6X4DyFYguNFi6rUdXEZPOoSo1ObTRbQwy6WCp0C2VhXmCtA/file [following]\n",
            "--2022-09-14 20:22:52--  https://uc45c84d381659c5b84f99e60a55.dl.dropboxusercontent.com/cd/0/inline2/Bs8RRNoR2T2zxaIVQylmN9z39vmsrsvF_hsdr19y4vlUghK5egtFP7WqpmXwoE8OMDnIs3q0UbeuACMFc3CFDT7swY6C8bZoASDLAm_SaXONpFBUF2lAoZPtRfiMin_HskDi3T7PliOWUT1LNCCQn4vYdoyP1h6ZbAWDsNAQ7KHWGV9Cd5bDC3WxnTD0oJVRy9I3DUQcFYFwk4PMdR_mfD3sPKvxoeTHvRZJCCwtbS7m7SqwCijt4NsYQi8_uMivd3MUf92Sgagj01KoIbu3RyZnTbnQJF7SJmDX4QNOjV-bm4wx1c_S2Z9oBcz9BF3qh3NROLQJTP6RTCH7MWGNhUBmLJBe7aZ5nVHrhQ5l4oS0sbQEue1q8ny7UI9JWUF6X4DyFYguNFi6rUdXEZPOoSo1ObTRbQwy6WCp0C2VhXmCtA/file\n",
            "Reusing existing connection to uc45c84d381659c5b84f99e60a55.dl.dropboxusercontent.com:443.\n",
            "HTTP request sent, awaiting response... 200 OK\n",
            "Length: 140830621 (134M) [application/zip]\n",
            "Saving to: ‘covid_19’\n",
            "\n",
            "covid_19            100%[===================>] 134.31M  22.1MB/s    in 6.3s    \n",
            "\n",
            "2022-09-14 20:22:59 (21.4 MB/s) - ‘covid_19’ saved [140830621/140830621]\n",
            "\n",
            "Archive:  covid_19\n",
            "  inflating: CovidDataset/Val/Covid/88de9d8c39e946abd495b37cd07d89e5-6531-0.jpg  \n",
            "  inflating: CovidDataset/Val/Covid/covid-19-pneumonia-8.jpg  \n",
            "  inflating: CovidDataset/Val/Covid/85E52EB3-56E9-4D67-82DA-DEA247C82886.jpeg  \n",
            "  inflating: CovidDataset/Val/Covid/4-x-day1.jpg  \n",
            "  inflating: CovidDataset/Val/Covid/covid-19-pneumonia-53.jpg  \n",
            "  inflating: CovidDataset/Val/Covid/4e43e48d52c9e2d4c6c1fb9bc1544f_jumbo.jpeg  \n",
            "  inflating: CovidDataset/Val/Covid/covid-19-pneumonia-35-1.jpg  \n",
            "  inflating: CovidDataset/Val/Covid/53EC07C9-5CC6-4BE4-9B6F-D7B0D72AAA7E.jpeg  \n",
            "  inflating: CovidDataset/Val/Covid/6CB4EFC6-68FA-4CD5-940C-BEFA8DAFE9A7.jpeg  \n",
            "  inflating: CovidDataset/Val/Covid/58cb9263f16e94305c730685358e4e_jumbo.jpeg  \n",
            "  inflating: CovidDataset/Val/Covid/6b3bdbc31f65230b8cdcc3cef5f8ba8a-40ac-0.jpg  \n",
            "  inflating: CovidDataset/Val/Covid/auntminnie-d-2020_01_28_23_51_6665_2020_01_28_Vietnam_coronavirus.jpeg  \n",
            "  inflating: CovidDataset/Val/Covid/6b44464d-73a7-4cf3-bbb6-ffe7168300e3.annot.original.jpeg  \n",
            "  inflating: CovidDataset/Val/Covid/88de9d8c39e946abd495b37cd07d89e5-2ee6-0.jpg  \n",
            "  inflating: CovidDataset/Val/Covid/31BA3780-2323-493F-8AED-62081B9C383B.jpeg  \n",
            "  inflating: CovidDataset/Val/Covid/B2D20576-00B7-4519-A415-72DE29C90C34.jpeg  \n",
            "  inflating: CovidDataset/Val/Covid/6C94A287-C059-46A0-8600-AFB95F4727B7.jpeg  \n",
            "  inflating: CovidDataset/Train/Covid/1-s2.0-S1684118220300682-main.pdf-003-b2.png  \n",
            "  inflating: CovidDataset/Val/Covid/41591_2020_819_Fig1_HTML.webp-day5.png  \n",
            "  inflating: CovidDataset/Val/Covid/41591_2020_819_Fig1_HTML.webp-day10.png  \n",
            "  inflating: CovidDataset/Train/Covid/1-s2.0-S1684118220300682-main.pdf-003-b1.png  \n",
            "  inflating: CovidDataset/Val/Covid/16654_2_1.jpg  \n",
            "  inflating: CovidDataset/Train/Covid/nCoV-radiol.2020200269.fig1-day7.jpeg  \n",
            "  inflating: CovidDataset/Val/Covid/auntminnie-c-2020_01_28_23_51_6665_2020_01_28_Vietnam_coronavirus.jpeg  \n",
            "  inflating: CovidDataset/Train/Covid/7-fatal-covid19.jpg  \n",
            "  inflating: CovidDataset/Train/Covid/auntminnie-b-2020_01_28_23_51_6665_2020_01_28_Vietnam_coronavirus.jpeg  \n",
            "  inflating: CovidDataset/Train/Normal/NORMAL2-IM-0986-0001.jpeg  \n",
            "  inflating: CovidDataset/Train/Normal/IM-0332-0001.jpeg  \n",
            "  inflating: CovidDataset/Train/Covid/extubation-13.jpg  \n",
            "  inflating: CovidDataset/Val/Covid/covid-19-pneumonia-35-2.jpg  \n",
            "  inflating: CovidDataset/Train/Normal/NORMAL2-IM-1337-0001.jpeg  \n",
            "  inflating: CovidDataset/Val/Covid/covid-19-pneumonia-12.jpg  \n",
            "  inflating: CovidDataset/Train/Normal/IM-0644-0001-0002.jpeg  \n",
            "  inflating: CovidDataset/Train/Covid/ryct.2020200034.fig5-day7.jpeg  \n",
            "  inflating: CovidDataset/Val/Covid/7AF6C1AF-D249-4BD2-8C26-449304105D03.jpeg  \n",
            "  inflating: CovidDataset/Train/Covid/covid-19-pneumonia-15-PA.jpg  \n",
            "  inflating: CovidDataset/Train/Covid/1-s2.0-S1684118220300608-main.pdf-002.jpg  \n",
            "  inflating: CovidDataset/Train/Normal/IM-0528-0001.jpeg  \n",
            "  inflating: CovidDataset/Train/Covid/80446565-E090-4187-A031-9D3CEAA586C8.jpeg  \n",
            "  inflating: CovidDataset/Train/Covid/1-s2.0-S0929664620300449-gr2_lrg-d.jpg  \n",
            "  inflating: CovidDataset/Train/Covid/covid-19-pneumonia-bilateral.jpg  \n",
            "  inflating: CovidDataset/Train/Normal/NORMAL2-IM-1020-0001-0001.jpeg  \n",
            "  inflating: CovidDataset/Train/Covid/E63574A7-4188-4C8D-8D17-9D67A18A1AFA.jpeg  \n",
            "  inflating: CovidDataset/Train/Normal/IM-0327-0001.jpeg  \n",
            "  inflating: CovidDataset/Train/Covid/AR-1.jpg  \n",
            "  inflating: CovidDataset/Train/Covid/F2DE909F-E19C-4900-92F5-8F435B031AC6.jpeg  \n",
            "  inflating: CovidDataset/Val/Normal/NORMAL2-IM-0851-0001.jpeg  \n",
            "  inflating: CovidDataset/Train/Covid/covid-19-pneumonia-2.jpg  \n",
            "  inflating: CovidDataset/Train/Normal/IM-0539-0001.jpeg  \n",
            "  inflating: CovidDataset/Train/Normal/IM-0495-0001.jpeg  \n",
            "  inflating: CovidDataset/Train/Normal/IM-0533-0001-0002.jpeg  \n",
            "  inflating: CovidDataset/Train/Normal/IM-0724-0001.jpeg  \n",
            "  inflating: CovidDataset/Train/Covid/1.CXRCTThoraximagesofCOVID-19fromSingapore.pdf-001-fig2a.png  \n",
            "  inflating: CovidDataset/Train/Covid/1-s2.0-S0140673620303706-fx1_lrg.jpg  \n",
            "  inflating: CovidDataset/Train/Normal/IM-0491-0001-0002.jpeg  \n",
            "  inflating: CovidDataset/Train/Covid/covid-19-pneumonia-58-day-9.jpg  \n",
            "  inflating: CovidDataset/Train/Normal/IM-0555-0001.jpeg  \n",
            "  inflating: CovidDataset/Train/Covid/1.CXRCTThoraximagesofCOVID-19fromSingapore.pdf-000-fig1b.png  \n",
            "  inflating: CovidDataset/Train/Normal/IM-0326-0001.jpeg  \n",
            "  inflating: CovidDataset/Train/Covid/covid-19-caso-70-1-PA.jpg  \n",
            "  inflating: CovidDataset/Train/Covid/1.CXRCTThoraximagesofCOVID-19fromSingapore.pdf-001-fig2b.png  \n",
            "  inflating: CovidDataset/Val/Normal/NORMAL2-IM-0730-0001.jpeg  \n",
            "  inflating: CovidDataset/Train/Normal/IM-0451-0001.jpeg  \n",
            "  inflating: CovidDataset/Val/Covid/7C69C012-7479-493F-8722-ABC29C60A2DD.jpeg  \n",
            "  inflating: CovidDataset/Train/Covid/16660_2_1.jpg  \n",
            "  inflating: CovidDataset/Train/Covid/1-s2.0-S1684118220300608-main.pdf-001.jpg  \n",
            "  inflating: CovidDataset/Train/Covid/kjr-21-e24-g003-l-a.jpg  \n",
            "  inflating: CovidDataset/Train/Covid/nejmoa2001191_f1-PA.jpeg  \n",
            "  inflating: CovidDataset/Train/Normal/IM-0534-0001.jpeg  \n",
            "  inflating: CovidDataset/Train/Covid/kjr-21-e24-g002-l-a.jpg  \n",
            "  inflating: CovidDataset/Train/Covid/covid-19-pneumonia-38-pa.jpg  \n",
            "  inflating: CovidDataset/Train/Normal/NORMAL2-IM-0529-0001.jpeg  \n",
            "  inflating: CovidDataset/Train/Covid/9C34AF49-E589-44D5-92D3-168B3B04E4A6.jpeg  \n",
            "  inflating: CovidDataset/Train/Normal/IM-0221-0001.jpeg  \n",
            "  inflating: CovidDataset/Val/Normal/NORMAL2-IM-1191-0001.jpeg  \n",
            "  inflating: CovidDataset/Train/Normal/NORMAL2-IM-0831-0001.jpeg  \n",
            "  inflating: CovidDataset/Train/Normal/IM-0500-0001.jpeg  \n",
            "  inflating: CovidDataset/Val/Normal/NORMAL2-IM-1228-0001.jpeg  \n",
            "  inflating: CovidDataset/Train/Covid/extubation-1.jpg  \n",
            "  inflating: CovidDataset/Train/Covid/covid-19-infection-exclusive-gastrointestinal-symptoms-l.png  \n",
            "  inflating: CovidDataset/Val/Normal/NORMAL2-IM-1037-0001.jpeg  \n",
            "  inflating: CovidDataset/Train/Normal/NORMAL2-IM-0956-0001.jpeg  \n",
            "  inflating: CovidDataset/Train/Normal/NORMAL2-IM-0847-0001.jpeg  \n",
            "  inflating: CovidDataset/Train/Normal/IM-0389-0001.jpeg  \n",
            "  inflating: CovidDataset/Train/Normal/IM-0660-0001-0001.jpeg  \n",
            "  inflating: CovidDataset/Train/Covid/16672_1_1.jpg  \n",
            "  inflating: CovidDataset/Train/Normal/IM-0700-0001.jpeg  \n",
            "  inflating: CovidDataset/Train/Normal/NORMAL2-IM-1305-0001.jpeg  \n",
            "  inflating: CovidDataset/Train/Covid/16660_4_1.jpg  \n",
            "  inflating: CovidDataset/Val/Covid/353889E0-A1E8-4F9E-A0B8-F24F36BCFBFB.jpeg  \n",
            "  inflating: CovidDataset/Train/Covid/covid-19-pneumonia-22-day2-pa.png  \n",
            "  inflating: CovidDataset/Train/Normal/IM-0472-0001.jpeg  \n",
            "  inflating: CovidDataset/Train/Normal/NORMAL2-IM-1202-0001.jpeg  \n",
            "  inflating: CovidDataset/Train/Normal/NORMAL2-IM-1188-0001.jpeg  \n",
            "  inflating: CovidDataset/Train/Covid/2C26F453-AF3B-4517-BB9E-802CF2179543.jpeg  \n",
            "  inflating: CovidDataset/Train/Normal/NORMAL2-IM-1290-0001.jpeg  \n",
            "  inflating: CovidDataset/Train/Normal/NORMAL2-IM-1346-0001.jpeg  \n",
            "  inflating: CovidDataset/Train/Normal/NORMAL2-IM-1345-0001-0001.jpeg  \n",
            "  inflating: CovidDataset/Train/Covid/radiol.2020200274.fig3d.png  \n",
            "  inflating: CovidDataset/Train/Normal/IM-0669-0001.jpeg  \n",
            "  inflating: CovidDataset/Train/Normal/IM-0270-0001.jpeg  \n",
            "  inflating: CovidDataset/Train/Covid/covid-19-pneumonia-28.png  \n",
            "  inflating: CovidDataset/Train/Covid/ryct.2020200034.fig2.jpeg  \n",
            "  inflating: CovidDataset/Train/Normal/NORMAL2-IM-1287-0001.jpeg  \n",
            "  inflating: CovidDataset/Train/Covid/1.CXRCTThoraximagesofCOVID-19fromSingapore.pdf-000-fig1a.png  \n",
            "  inflating: CovidDataset/Train/Normal/NORMAL2-IM-0626-0001.jpeg  \n",
            "  inflating: CovidDataset/Train/Normal/IM-0543-0001.jpeg  \n",
            "  inflating: CovidDataset/Val/Normal/NORMAL2-IM-0857-0001.jpeg  \n",
            "  inflating: CovidDataset/Val/Normal/NORMAL2-IM-0905-0001.jpeg  \n",
            "  inflating: CovidDataset/Train/Covid/1-s2.0-S0929664620300449-gr2_lrg-a.jpg  \n",
            "  inflating: CovidDataset/Val/Covid/16654_1_1.png  \n",
            "  inflating: CovidDataset/Train/Covid/kjr-21-e24-g001-l-a.jpg  \n",
            "  inflating: CovidDataset/Train/Normal/IM-0433-0001.jpeg  \n",
            "  inflating: CovidDataset/Train/Covid/covid-19-pneumonia-58-day-10.jpg  \n",
            "  inflating: CovidDataset/Val/Covid/16654_4_1.jpg  \n",
            "  inflating: CovidDataset/Val/Normal/NORMAL2-IM-0790-0001.jpeg  \n",
            "  inflating: CovidDataset/Train/Normal/NORMAL2-IM-1326-0001.jpeg  \n",
            "  inflating: CovidDataset/Train/Normal/IM-0563-0001.jpeg  \n",
            "  inflating: CovidDataset/Train/Covid/ae6c954c0039de4b5edee53865ffee43-e6c8-0.jpg  \n",
            "  inflating: CovidDataset/Val/Covid/23E99E2E-447C-46E5-8EB2-D35D12473C39.png  \n",
            "  inflating: CovidDataset/Train/Covid/gr1_lrg-a.jpg  \n",
            "  inflating: CovidDataset/Train/Normal/IM-0564-0001.jpeg  \n",
            "  inflating: CovidDataset/Train/Normal/NORMAL2-IM-0499-0001.jpeg  \n",
            "  inflating: CovidDataset/Train/Covid/16663_1_1.jpg  \n",
            "  inflating: CovidDataset/Train/Covid/extubation-8.jpg  \n",
            "  inflating: CovidDataset/Train/Covid/paving.jpg  \n",
            "  inflating: CovidDataset/Train/Normal/IM-0529-0001.jpeg  \n",
            "  inflating: CovidDataset/Train/Normal/IM-0425-0001.jpeg  \n",
            "  inflating: CovidDataset/Train/Normal/IM-0439-0001.jpeg  \n",
            "  inflating: CovidDataset/Train/Normal/IM-0491-0001.jpeg  \n",
            "  inflating: CovidDataset/Train/Normal/IM-0337-0001.jpeg  \n",
            "  inflating: CovidDataset/Train/Covid/all14238-fig-0001-m-b.jpg  \n",
            "  inflating: CovidDataset/Train/Covid/covid-19-infection-exclusive-gastrointestinal-symptoms-pa.png  \n",
            "  inflating: CovidDataset/Train/Normal/NORMAL2-IM-1320-0001.jpeg  \n",
            "  inflating: CovidDataset/Train/Covid/1.CXRCTThoraximagesofCOVID-19fromSingapore.pdf-002-fig3b.png  \n",
            "  inflating: CovidDataset/Train/Normal/NORMAL2-IM-0815-0001.jpeg  \n",
            "  inflating: CovidDataset/Train/Covid/nejmoa2001191_f5-PA.jpeg  \n",
            "  inflating: CovidDataset/Train/Normal/NORMAL2-IM-1336-0001.jpeg  \n",
            "  inflating: CovidDataset/Train/Normal/IM-0369-0001.jpeg  \n",
            "  inflating: CovidDataset/Train/Normal/NORMAL2-IM-1300-0001.jpeg  \n",
            "  inflating: CovidDataset/Train/Normal/NORMAL2-IM-1295-0001.jpeg  \n",
            "  inflating: CovidDataset/Train/Normal/NORMAL2-IM-0518-0001.jpeg  \n",
            "  inflating: CovidDataset/Train/Covid/covid-19-pneumonia-34.png  \n",
            "  inflating: CovidDataset/Train/Normal/IM-0385-0001.jpeg  \n",
            "  inflating: CovidDataset/Train/Covid/F63AB6CE-1968-4154-A70F-913AF154F53D.jpeg  \n",
            "  inflating: CovidDataset/Val/Normal/NORMAL2-IM-0842-0001.jpeg  \n",
            "  inflating: CovidDataset/Val/Normal/NORMAL2-IM-0416-0001-0001.jpeg  \n",
            "  inflating: CovidDataset/Val/Normal/NORMAL2-IM-1275-0001.jpeg  \n",
            "  inflating: CovidDataset/Train/Normal/IM-0467-0001.jpeg  \n",
            "  inflating: CovidDataset/Train/Normal/NORMAL2-IM-1344-0001.jpeg  \n",
            "  inflating: CovidDataset/Train/Normal/IM-0301-0001.jpeg  \n",
            "  inflating: CovidDataset/Train/Normal/IM-0421-0001.jpeg  \n",
            "  inflating: CovidDataset/Train/Covid/ryct.2020200034.fig5-day0.jpeg  \n",
            "  inflating: CovidDataset/Train/Covid/covid-19-pneumonia-58-day-3.jpg  \n",
            "  inflating: CovidDataset/Train/Covid/covid-19-pneumonia-mild.JPG  \n",
            "  inflating: CovidDataset/Val/Normal/NORMAL2-IM-0859-0001.jpeg  \n",
            "  inflating: CovidDataset/Val/Normal/NORMAL2-IM-1237-0001.jpeg  \n",
            "  inflating: CovidDataset/Train/Normal/NORMAL2-IM-1103-0001-0001.jpeg  \n",
            "  inflating: CovidDataset/Train/Covid/1-s2.0-S1684118220300682-main.pdf-002-a2.png  \n",
            "  inflating: CovidDataset/Val/Normal/NORMAL2-IM-0535-0001-0002.jpeg  \n",
            "  inflating: CovidDataset/Train/Covid/1.CXRCTThoraximagesofCOVID-19fromSingapore.pdf-003-fig4b.png  \n",
            "  inflating: CovidDataset/Train/Normal/IM-0461-0001.jpeg  \n",
            "  inflating: CovidDataset/Train/Normal/IM-0372-0001.jpeg  \n",
            "  inflating: CovidDataset/Train/Normal/IM-0666-0001-0001.jpeg  \n",
            "  inflating: CovidDataset/Train/Normal/NORMAL2-IM-0840-0001.jpeg  \n",
            "  inflating: CovidDataset/Train/Covid/ryct.2020200034.fig5-day4.jpeg  \n",
            "  inflating: CovidDataset/Train/Normal/NORMAL2-IM-0798-0001.jpeg  \n",
            "  inflating: CovidDataset/Train/Normal/IM-0351-0001.jpeg  \n",
            "  inflating: CovidDataset/Train/Covid/auntminnie-a-2020_01_28_23_51_6665_2020_01_28_Vietnam_coronavirus.jpeg  \n",
            "  inflating: CovidDataset/Train/Covid/1-s2.0-S1684118220300682-main.pdf-002-a1.png  \n",
            "  inflating: CovidDataset/Val/Normal/NORMAL2-IM-1240-0001.jpeg  \n",
            "  inflating: CovidDataset/Train/Covid/93FE0BB1-022D-4F24-9727-987A07975FFB.jpeg  \n",
            "  inflating: CovidDataset/Train/Covid/16660_1_1.jpg  \n",
            "  inflating: CovidDataset/Train/Covid/figure1-5e71be566aa8714a04de3386-98-left.jpeg  \n",
            "  inflating: CovidDataset/Train/Normal/IM-0703-0001.jpeg  \n",
            "  inflating: CovidDataset/Train/Covid/covid-19-pneumonia-7-PA.jpg  \n",
            "  inflating: CovidDataset/Train/Normal/NORMAL2-IM-1277-0001-0002.jpeg  \n",
            "  inflating: CovidDataset/Train/Covid/8FDE8DBA-CFBD-4B4C-B1A4-6F36A93B7E87.jpeg  \n",
            "  inflating: CovidDataset/Train/Normal/IM-0482-0001.jpeg  \n",
            "  inflating: CovidDataset/Train/Normal/IM-0656-0001-0002.jpeg  \n",
            "  inflating: CovidDataset/Train/Covid/16664_1_1.jpg  \n",
            "  inflating: CovidDataset/Train/Normal/IM-0430-0001.jpeg  \n",
            "  inflating: CovidDataset/Train/Covid/covid-19-pneumonia-67.jpeg  \n",
            "  inflating: CovidDataset/Train/Covid/ciaa199.pdf-001-a.png  \n",
            "  inflating: CovidDataset/Train/Normal/IM-0187-0001.jpeg  \n",
            "  inflating: CovidDataset/Val/Normal/NORMAL2-IM-0652-0001.jpeg  \n",
            "  inflating: CovidDataset/Train/Normal/IM-0691-0001.jpeg  \n",
            "  inflating: CovidDataset/Train/Covid/CD50BA96-6982-4C80-AE7B-5F67ACDBFA56.jpeg  \n",
            "  inflating: CovidDataset/Train/Normal/NORMAL2-IM-0976-0001.jpeg  \n",
            "  inflating: CovidDataset/Train/Covid/covid-19-pneumonia-20-pa-on-admission.jpg  \n",
            "  inflating: CovidDataset/Train/Covid/1-s2.0-S0929664620300449-gr2_lrg-c.jpg  \n",
            "  inflating: CovidDataset/Train/Covid/fff49165-b22d-4bb4-b9d1-d5d62c52436c.annot.original.png  \n",
            "  inflating: CovidDataset/Train/Covid/1.CXRCTThoraximagesofCOVID-19fromSingapore.pdf-002-fig3a.png  \n",
            "  inflating: CovidDataset/Val/Normal/NORMAL2-IM-0395-0001.jpeg  \n",
            "  inflating: CovidDataset/Train/Normal/IM-0182-0001.jpeg  \n",
            "  inflating: CovidDataset/Train/Covid/covid-19-pneumonia-evolution-over-a-week-1-day0-PA.jpg  \n",
            "  inflating: CovidDataset/Val/Normal/NORMAL2-IM-0914-0001.jpeg  \n",
            "  inflating: CovidDataset/Train/Covid/covid-19-pneumonia-30-PA.jpg  \n",
            "  inflating: CovidDataset/Train/Covid/nejmc2001573_f1a.jpeg  \n",
            "  inflating: CovidDataset/Train/Covid/kjr-21-e25-g001-l-a.jpg  \n",
            "  inflating: CovidDataset/Val/Normal/NORMAL2-IM-0873-0001.jpeg  \n",
            "  inflating: CovidDataset/Train/Normal/NORMAL2-IM-0501-0001.jpeg  \n",
            "  inflating: CovidDataset/Train/Normal/IM-0667-0001.jpeg  \n",
            "  inflating: CovidDataset/Train/Normal/IM-0551-0001-0002.jpeg  \n",
            "  inflating: CovidDataset/Train/Normal/IM-0176-0001.jpeg  \n",
            "  inflating: CovidDataset/Train/Covid/lancet-case2b.jpg  \n",
            "  inflating: CovidDataset/Train/Normal/IM-0713-0001.jpeg  \n",
            "  inflating: CovidDataset/Train/Covid/all14238-fig-0001-m-c.jpg  \n",
            "  inflating: CovidDataset/Val/Covid/covid-19-pneumonia-14-PA.png  \n",
            "  inflating: CovidDataset/Val/Normal/NORMAL2-IM-0851-0001-0001.jpeg  \n",
            "  inflating: CovidDataset/Train/Normal/NORMAL2-IM-1154-0001-0002.jpeg  \n",
            "  inflating: CovidDataset/Train/Normal/IM-0619-0001.jpeg  \n",
            "  inflating: CovidDataset/Val/Normal/NORMAL2-IM-0441-0001.jpeg  \n",
            "  inflating: CovidDataset/Val/Normal/NORMAL2-IM-0765-0001.jpeg  \n",
            "  inflating: CovidDataset/Train/Normal/IM-0172-0001.jpeg  \n",
            "  inflating: CovidDataset/Train/Normal/IM-0551-0001-0001.jpeg  \n",
            "  inflating: CovidDataset/Train/Covid/gr1_lrg-b.jpg  \n",
            "  inflating: CovidDataset/Train/Covid/1-s2.0-S0929664620300449-gr2_lrg-b.jpg  \n",
            "  inflating: CovidDataset/Train/Normal/IM-0514-0001.jpeg  \n",
            "  inflating: CovidDataset/Train/Covid/covid-19-pneumonia-20.jpg  \n",
            "  inflating: CovidDataset/Train/Normal/IM-0544-0001.jpeg  \n",
            "  inflating: CovidDataset/Val/Normal/NORMAL2-IM-1022-0001.jpeg  \n",
            "  inflating: CovidDataset/Train/Normal/NORMAL2-IM-0935-0001.jpeg  \n",
            "  inflating: CovidDataset/Train/Covid/covid-19-pneumonia-22-day1-pa.png  \n",
            "  inflating: CovidDataset/Train/Normal/NORMAL2-IM-1288-0001.jpeg  \n",
            "  inflating: CovidDataset/Train/Covid/16669_1_1.jpeg  \n",
            "  inflating: CovidDataset/Train/Covid/nejmoa2001191_f4.jpeg  \n",
            "  inflating: CovidDataset/Val/Normal/NORMAL2-IM-0462-0001.jpeg  \n",
            "  inflating: CovidDataset/Val/Normal/NORMAL2-IM-0894-0001.jpeg  \n",
            "  inflating: CovidDataset/Train/Covid/nejmc2001573_f1b.jpeg  \n",
            "  inflating: CovidDataset/Train/Normal/NORMAL2-IM-1094-0001-0001.jpeg  \n",
            "  inflating: CovidDataset/Train/Normal/IM-0543-0001-0002.jpeg  \n",
            "  inflating: CovidDataset/Train/Covid/16669_3_1.jpeg  \n",
            "  inflating: CovidDataset/Train/Covid/covid-19-pneumonia-58-day-7.jpg  \n",
            "  inflating: CovidDataset/Train/Normal/IM-0536-0001.jpeg  \n",
            "  inflating: CovidDataset/Train/Normal/NORMAL2-IM-1214-0001.jpeg  \n",
            "  inflating: CovidDataset/Train/Covid/AR-2.jpg  \n",
            "  inflating: CovidDataset/Train/Covid/9fdd3c3032296fd04d2cad5d9070d4_jumbo.jpeg  \n",
            "  inflating: CovidDataset/Train/Covid/1B734A89-A1BF-49A8-A1D3-66FAFA4FAC5D.jpeg  \n",
            "  inflating: CovidDataset/Train/Normal/IM-0156-0001.jpeg  \n",
            "  inflating: CovidDataset/Train/Normal/NORMAL2-IM-1111-0001.jpeg  \n",
            "  inflating: CovidDataset/Train/Covid/FE9F9A5D-2830-46F9-851B-1FF4534959BE.jpeg  \n",
            "  inflating: CovidDataset/Train/Normal/IM-0429-0001.jpeg  \n",
            "  inflating: CovidDataset/Train/Covid/covid-19-pneumonia-44-day-0.jpeg  \n",
            "  inflating: CovidDataset/Val/Normal/NORMAL2-IM-0869-0001.jpeg  \n",
            "  inflating: CovidDataset/Train/Covid/figure1-5e75d0940b71e1b702629659-98-right.jpeg  \n",
            "  inflating: CovidDataset/Train/Covid/03BF7561-A9BA-4C3C-B8A0-D3E585F73F3C.jpeg  \n",
            "  inflating: CovidDataset/Train/Covid/ciaa199.pdf-001-c.png  \n",
            "  inflating: CovidDataset/Train/Covid/extubation-4.jpg  \n",
            "  inflating: CovidDataset/Train/Normal/IM-0556-0001.jpeg  \n",
            "  inflating: CovidDataset/Train/Covid/1.CXRCTThoraximagesofCOVID-19fromSingapore.pdf-003-fig4a.png  \n",
            "  inflating: CovidDataset/Train/Covid/covid-19-pneumonia-19.jpg  \n",
            "  inflating: CovidDataset/Train/Normal/IM-0392-0001.jpeg  \n",
            "  inflating: CovidDataset/Train/Normal/IM-0530-0001.jpeg  \n",
            "  inflating: CovidDataset/Train/Normal/IM-0261-0001.jpeg  \n",
            "  inflating: CovidDataset/Train/Covid/1312A392-67A3-4EBF-9319-810CF6DA5EF6.jpeg  \n",
            "  inflating: CovidDataset/Train/Normal/IM-0525-0001.jpeg  \n",
            "  inflating: CovidDataset/Train/Covid/lancet-case2a.jpg  \n",
            "  inflating: CovidDataset/Train/Covid/ciaa199.pdf-001-b.png  \n",
            "  inflating: CovidDataset/Train/Normal/NORMAL2-IM-0941-0001.jpeg  \n",
            "  inflating: CovidDataset/Train/Normal/IM-0488-0001.jpeg  \n",
            "  inflating: CovidDataset/Train/Covid/nejmoa2001191_f3-PA.jpeg  \n",
            "  inflating: CovidDataset/Train/Normal/IM-0447-0001.jpeg  \n",
            "  inflating: CovidDataset/Train/Covid/2966893D-5DDF-4B68-9E2B-4979D5956C8E.jpeg  \n",
            "  inflating: CovidDataset/Train/Covid/ryct.2020200028.fig1a.jpeg  \n",
            "  inflating: CovidDataset/Train/Normal/IM-0688-0001.jpeg  \n",
            "  inflating: CovidDataset/Train/Covid/16660_3_1.jpg  \n",
            "  inflating: CovidDataset/Val/Normal/NORMAL2-IM-1045-0001.jpeg  \n",
            "  inflating: CovidDataset/Train/Normal/NORMAL2-IM-0978-0001.jpeg  \n",
            "  inflating: CovidDataset/Train/Covid/2-chest-filmc.jpg  \n",
            "  inflating: CovidDataset/Val/Normal/NORMAL2-IM-0678-0001.jpeg  \n",
            "  inflating: CovidDataset/Train/Normal/NORMAL2-IM-0573-0001.jpeg  \n",
            "  inflating: CovidDataset/Train/Normal/IM-0365-0001.jpeg  \n",
            "  inflating: CovidDataset/Train/Normal/IM-0300-0001.jpeg  \n",
            "  inflating: CovidDataset/Train/Normal/IM-0242-0001.jpeg  \n",
            "  inflating: CovidDataset/Train/Covid/F4341CE7-73C9-45C6-99C8-8567A5484B63.jpeg  \n",
            "  inflating: CovidDataset/Train/Normal/NORMAL2-IM-1019-0001.jpeg  \n",
            "  inflating: CovidDataset/Train/Covid/01E392EE-69F9-4E33-BFCE-E5C968654078.jpeg  \n",
            "  inflating: CovidDataset/Train/Normal/IM-0648-0001.jpeg  \n",
            "  inflating: CovidDataset/Val/Normal/NORMAL2-IM-0408-0001.jpeg  \n",
            "  inflating: CovidDataset/Train/Covid/yxppt-2020-02-19_00-51-27_287214-day8.jpg  \n",
            "  inflating: CovidDataset/Train/Normal/IM-0635-0001.jpeg  \n",
            "  inflating: CovidDataset/Train/Covid/radiol.2020200490.fig3.jpeg  \n",
            "  inflating: CovidDataset/Val/Normal/NORMAL2-IM-1060-0001.jpeg  \n"
          ]
        }
      ]
    },
    {
      "cell_type": "code",
      "source": [
        "import keras \n",
        "from keras.models import * \n",
        "from keras.layers import * \n",
        "from keras.preprocessing import image\n",
        "import PIL"
      ],
      "metadata": {
        "id": "ueugudz2HGgJ"
      },
      "execution_count": null,
      "outputs": []
    },
    {
      "cell_type": "code",
      "source": [
        "from keras.preprocessing.image import ImageDataGenerator\n",
        "\n",
        "train_datagen = ImageDataGenerator(rescale=1./255,)\n",
        "test_datagen = ImageDataGenerator(rescale=1./255)\n",
        "\n",
        "train_set = train_datagen.flow_from_directory(\n",
        "        '/content/CovidDataset/Train/',\n",
        "        target_size=(224, 224),batch_size=32,class_mode='binary',\n",
        "        shuffle=False)\n",
        "       \n",
        "\n",
        "test_set = test_datagen.flow_from_directory(\n",
        "        '/content/CovidDataset/Val/',\n",
        "        target_size=(224, 224),batch_size=32,class_mode='binary',\n",
        "        shuffle=False)\n"
      ],
      "metadata": {
        "id": "wkIo9QF2G1ee",
        "colab": {
          "base_uri": "https://localhost:8080/"
        },
        "outputId": "e3354ed2-0b28-4860-d421-1d71affdd728"
      },
      "execution_count": null,
      "outputs": [
        {
          "output_type": "stream",
          "name": "stdout",
          "text": [
            "Found 224 images belonging to 2 classes.\n",
            "Found 60 images belonging to 2 classes.\n"
          ]
        }
      ]
    },
    {
      "cell_type": "code",
      "source": [
        "test_set.labels"
      ],
      "metadata": {
        "colab": {
          "base_uri": "https://localhost:8080/"
        },
        "id": "Xdsbrn2Rs-uY",
        "outputId": "58d0d610-71e5-484c-c5da-2f1bda27712a"
      },
      "execution_count": null,
      "outputs": [
        {
          "output_type": "execute_result",
          "data": {
            "text/plain": [
              "array([0, 0, 0, 0, 0, 0, 0, 0, 0, 0, 0, 0, 0, 0, 0, 0, 0, 0, 0, 0, 0, 0,\n",
              "       0, 0, 0, 0, 0, 0, 0, 0, 1, 1, 1, 1, 1, 1, 1, 1, 1, 1, 1, 1, 1, 1,\n",
              "       1, 1, 1, 1, 1, 1, 1, 1, 1, 1, 1, 1, 1, 1, 1, 1], dtype=int32)"
            ]
          },
          "metadata": {},
          "execution_count": 6
        }
      ]
    },
    {
      "cell_type": "code",
      "source": [
        "test_set.filenames"
      ],
      "metadata": {
        "colab": {
          "base_uri": "https://localhost:8080/"
        },
        "id": "41OVKnC3rKB4",
        "outputId": "bdd2804a-a67b-4eb3-9b3b-3dc56d39197e"
      },
      "execution_count": null,
      "outputs": [
        {
          "output_type": "execute_result",
          "data": {
            "text/plain": [
              "['Covid/16654_1_1.png',\n",
              " 'Covid/16654_2_1.jpg',\n",
              " 'Covid/16654_4_1.jpg',\n",
              " 'Covid/23E99E2E-447C-46E5-8EB2-D35D12473C39.png',\n",
              " 'Covid/31BA3780-2323-493F-8AED-62081B9C383B.jpeg',\n",
              " 'Covid/353889E0-A1E8-4F9E-A0B8-F24F36BCFBFB.jpeg',\n",
              " 'Covid/4-x-day1.jpg',\n",
              " 'Covid/41591_2020_819_Fig1_HTML.webp-day10.png',\n",
              " 'Covid/41591_2020_819_Fig1_HTML.webp-day5.png',\n",
              " 'Covid/4e43e48d52c9e2d4c6c1fb9bc1544f_jumbo.jpeg',\n",
              " 'Covid/53EC07C9-5CC6-4BE4-9B6F-D7B0D72AAA7E.jpeg',\n",
              " 'Covid/58cb9263f16e94305c730685358e4e_jumbo.jpeg',\n",
              " 'Covid/6C94A287-C059-46A0-8600-AFB95F4727B7.jpeg',\n",
              " 'Covid/6CB4EFC6-68FA-4CD5-940C-BEFA8DAFE9A7.jpeg',\n",
              " 'Covid/6b3bdbc31f65230b8cdcc3cef5f8ba8a-40ac-0.jpg',\n",
              " 'Covid/6b44464d-73a7-4cf3-bbb6-ffe7168300e3.annot.original.jpeg',\n",
              " 'Covid/7AF6C1AF-D249-4BD2-8C26-449304105D03.jpeg',\n",
              " 'Covid/7C69C012-7479-493F-8722-ABC29C60A2DD.jpeg',\n",
              " 'Covid/85E52EB3-56E9-4D67-82DA-DEA247C82886.jpeg',\n",
              " 'Covid/88de9d8c39e946abd495b37cd07d89e5-2ee6-0.jpg',\n",
              " 'Covid/88de9d8c39e946abd495b37cd07d89e5-6531-0.jpg',\n",
              " 'Covid/B2D20576-00B7-4519-A415-72DE29C90C34.jpeg',\n",
              " 'Covid/auntminnie-c-2020_01_28_23_51_6665_2020_01_28_Vietnam_coronavirus.jpeg',\n",
              " 'Covid/auntminnie-d-2020_01_28_23_51_6665_2020_01_28_Vietnam_coronavirus.jpeg',\n",
              " 'Covid/covid-19-pneumonia-12.jpg',\n",
              " 'Covid/covid-19-pneumonia-14-PA.png',\n",
              " 'Covid/covid-19-pneumonia-35-1.jpg',\n",
              " 'Covid/covid-19-pneumonia-35-2.jpg',\n",
              " 'Covid/covid-19-pneumonia-53.jpg',\n",
              " 'Covid/covid-19-pneumonia-8.jpg',\n",
              " 'Normal/NORMAL2-IM-0395-0001.jpeg',\n",
              " 'Normal/NORMAL2-IM-0408-0001.jpeg',\n",
              " 'Normal/NORMAL2-IM-0416-0001-0001.jpeg',\n",
              " 'Normal/NORMAL2-IM-0441-0001.jpeg',\n",
              " 'Normal/NORMAL2-IM-0462-0001.jpeg',\n",
              " 'Normal/NORMAL2-IM-0535-0001-0002.jpeg',\n",
              " 'Normal/NORMAL2-IM-0652-0001.jpeg',\n",
              " 'Normal/NORMAL2-IM-0678-0001.jpeg',\n",
              " 'Normal/NORMAL2-IM-0730-0001.jpeg',\n",
              " 'Normal/NORMAL2-IM-0765-0001.jpeg',\n",
              " 'Normal/NORMAL2-IM-0790-0001.jpeg',\n",
              " 'Normal/NORMAL2-IM-0842-0001.jpeg',\n",
              " 'Normal/NORMAL2-IM-0851-0001-0001.jpeg',\n",
              " 'Normal/NORMAL2-IM-0851-0001.jpeg',\n",
              " 'Normal/NORMAL2-IM-0857-0001.jpeg',\n",
              " 'Normal/NORMAL2-IM-0859-0001.jpeg',\n",
              " 'Normal/NORMAL2-IM-0869-0001.jpeg',\n",
              " 'Normal/NORMAL2-IM-0873-0001.jpeg',\n",
              " 'Normal/NORMAL2-IM-0894-0001.jpeg',\n",
              " 'Normal/NORMAL2-IM-0905-0001.jpeg',\n",
              " 'Normal/NORMAL2-IM-0914-0001.jpeg',\n",
              " 'Normal/NORMAL2-IM-1022-0001.jpeg',\n",
              " 'Normal/NORMAL2-IM-1037-0001.jpeg',\n",
              " 'Normal/NORMAL2-IM-1045-0001.jpeg',\n",
              " 'Normal/NORMAL2-IM-1060-0001.jpeg',\n",
              " 'Normal/NORMAL2-IM-1191-0001.jpeg',\n",
              " 'Normal/NORMAL2-IM-1228-0001.jpeg',\n",
              " 'Normal/NORMAL2-IM-1237-0001.jpeg',\n",
              " 'Normal/NORMAL2-IM-1240-0001.jpeg',\n",
              " 'Normal/NORMAL2-IM-1275-0001.jpeg']"
            ]
          },
          "metadata": {},
          "execution_count": 14
        }
      ]
    },
    {
      "cell_type": "code",
      "source": [
        "import os\n",
        "os.listdir('/content/CovidDataset/Val/')"
      ],
      "metadata": {
        "colab": {
          "base_uri": "https://localhost:8080/"
        },
        "id": "s-1RS7wdrT7U",
        "outputId": "489f6ec0-5472-431e-80d8-ac3f016bbb02"
      },
      "execution_count": null,
      "outputs": [
        {
          "output_type": "execute_result",
          "data": {
            "text/plain": [
              "['Normal', 'Covid']"
            ]
          },
          "metadata": {},
          "execution_count": 15
        }
      ]
    },
    {
      "cell_type": "code",
      "source": [
        "os.listdir('/content/CovidDataset/Val/Normal')"
      ],
      "metadata": {
        "colab": {
          "base_uri": "https://localhost:8080/"
        },
        "id": "esFWyRy_r2Pz",
        "outputId": "d97343dd-5309-4189-ce7b-7b1cae69c662"
      },
      "execution_count": null,
      "outputs": [
        {
          "output_type": "execute_result",
          "data": {
            "text/plain": [
              "['NORMAL2-IM-1237-0001.jpeg',\n",
              " 'NORMAL2-IM-0859-0001.jpeg',\n",
              " 'NORMAL2-IM-0905-0001.jpeg',\n",
              " 'NORMAL2-IM-0873-0001.jpeg',\n",
              " 'NORMAL2-IM-1045-0001.jpeg',\n",
              " 'NORMAL2-IM-0842-0001.jpeg',\n",
              " 'NORMAL2-IM-0652-0001.jpeg',\n",
              " 'NORMAL2-IM-0678-0001.jpeg',\n",
              " 'NORMAL2-IM-0851-0001.jpeg',\n",
              " 'NORMAL2-IM-1275-0001.jpeg',\n",
              " 'NORMAL2-IM-1228-0001.jpeg',\n",
              " 'NORMAL2-IM-1240-0001.jpeg',\n",
              " 'NORMAL2-IM-1060-0001.jpeg',\n",
              " 'NORMAL2-IM-0869-0001.jpeg',\n",
              " 'NORMAL2-IM-1037-0001.jpeg',\n",
              " 'NORMAL2-IM-0790-0001.jpeg',\n",
              " 'NORMAL2-IM-0914-0001.jpeg',\n",
              " 'NORMAL2-IM-0408-0001.jpeg',\n",
              " 'NORMAL2-IM-0765-0001.jpeg',\n",
              " 'NORMAL2-IM-0857-0001.jpeg',\n",
              " 'NORMAL2-IM-0462-0001.jpeg',\n",
              " 'NORMAL2-IM-1022-0001.jpeg',\n",
              " 'NORMAL2-IM-0730-0001.jpeg',\n",
              " 'NORMAL2-IM-0416-0001-0001.jpeg',\n",
              " 'NORMAL2-IM-0894-0001.jpeg',\n",
              " 'NORMAL2-IM-0851-0001-0001.jpeg',\n",
              " 'NORMAL2-IM-0395-0001.jpeg',\n",
              " 'NORMAL2-IM-0535-0001-0002.jpeg',\n",
              " 'NORMAL2-IM-1191-0001.jpeg',\n",
              " 'NORMAL2-IM-0441-0001.jpeg']"
            ]
          },
          "metadata": {},
          "execution_count": 16
        }
      ]
    },
    {
      "cell_type": "code",
      "source": [
        "train_set.class_indices"
      ],
      "metadata": {
        "colab": {
          "base_uri": "https://localhost:8080/"
        },
        "id": "RwPK-sfC-wub",
        "outputId": "b981b21a-a955-41bc-d57f-a648c069f6d9"
      },
      "execution_count": null,
      "outputs": [
        {
          "output_type": "execute_result",
          "data": {
            "text/plain": [
              "{'Covid': 0, 'Normal': 1}"
            ]
          },
          "metadata": {},
          "execution_count": 7
        }
      ]
    },
    {
      "cell_type": "code",
      "source": [
        "test_set.class_indices"
      ],
      "metadata": {
        "colab": {
          "base_uri": "https://localhost:8080/"
        },
        "id": "51y78ekM_x98",
        "outputId": "34c6e083-7400-4dd8-a658-72dc26f1394d"
      },
      "execution_count": null,
      "outputs": [
        {
          "output_type": "execute_result",
          "data": {
            "text/plain": [
              "{'Covid': 0, 'Normal': 1}"
            ]
          },
          "metadata": {},
          "execution_count": 8
        }
      ]
    },
    {
      "cell_type": "code",
      "source": [
        "test_set[0]"
      ],
      "metadata": {
        "colab": {
          "base_uri": "https://localhost:8080/"
        },
        "id": "OpiKYQvfsFW6",
        "outputId": "8c5778e3-4acc-4f2a-d68b-44e85dd81310"
      },
      "execution_count": null,
      "outputs": [
        {
          "output_type": "execute_result",
          "data": {
            "text/plain": [
              "(array([[[[0.07058824, 0.07058824, 0.07058824],\n",
              "          [0.06666667, 0.06666667, 0.06666667],\n",
              "          [0.06666667, 0.06666667, 0.06666667],\n",
              "          ...,\n",
              "          [0.00392157, 0.00392157, 0.00392157],\n",
              "          [0.00392157, 0.00392157, 0.00392157],\n",
              "          [0.00392157, 0.00392157, 0.00392157]],\n",
              " \n",
              "         [[0.06666667, 0.06666667, 0.06666667],\n",
              "          [0.06666667, 0.06666667, 0.06666667],\n",
              "          [0.06666667, 0.06666667, 0.06666667],\n",
              "          ...,\n",
              "          [0.00392157, 0.00392157, 0.00392157],\n",
              "          [0.00392157, 0.00392157, 0.00392157],\n",
              "          [0.00392157, 0.00392157, 0.00392157]],\n",
              " \n",
              "         [[0.06666667, 0.06666667, 0.06666667],\n",
              "          [0.06666667, 0.06666667, 0.06666667],\n",
              "          [0.06666667, 0.06666667, 0.06666667],\n",
              "          ...,\n",
              "          [0.00392157, 0.00392157, 0.00392157],\n",
              "          [0.00392157, 0.00392157, 0.00392157],\n",
              "          [0.00392157, 0.00392157, 0.00392157]],\n",
              " \n",
              "         ...,\n",
              " \n",
              "         [[0.29803923, 0.29803923, 0.29803923],\n",
              "          [0.34509805, 0.34509805, 0.34509805],\n",
              "          [0.37647063, 0.37647063, 0.37647063],\n",
              "          ...,\n",
              "          [0.26666668, 0.26666668, 0.26666668],\n",
              "          [0.227451  , 0.227451  , 0.227451  ],\n",
              "          [0.20000002, 0.20000002, 0.20000002]],\n",
              " \n",
              "         [[0.2784314 , 0.2784314 , 0.2784314 ],\n",
              "          [0.33333334, 0.33333334, 0.33333334],\n",
              "          [0.3647059 , 0.3647059 , 0.3647059 ],\n",
              "          ...,\n",
              "          [0.2627451 , 0.2627451 , 0.2627451 ],\n",
              "          [0.24313727, 0.24313727, 0.24313727],\n",
              "          [0.20392159, 0.20392159, 0.20392159]],\n",
              " \n",
              "         [[0.27450982, 0.27450982, 0.27450982],\n",
              "          [0.31764707, 0.31764707, 0.31764707],\n",
              "          [0.36078432, 0.36078432, 0.36078432],\n",
              "          ...,\n",
              "          [0.27058825, 0.27058825, 0.27058825],\n",
              "          [0.25882354, 0.25882354, 0.25882354],\n",
              "          [0.20392159, 0.20392159, 0.20392159]]],\n",
              " \n",
              " \n",
              "        [[[0.3254902 , 0.3254902 , 0.3254902 ],\n",
              "          [0.21960786, 0.21960786, 0.21960786],\n",
              "          [0.1254902 , 0.1254902 , 0.1254902 ],\n",
              "          ...,\n",
              "          [0.28627452, 0.28627452, 0.28627452],\n",
              "          [0.7058824 , 0.7058824 , 0.7058824 ],\n",
              "          [0.9294118 , 0.9294118 , 0.9294118 ]],\n",
              " \n",
              "         [[0.3372549 , 0.3372549 , 0.3372549 ],\n",
              "          [0.20000002, 0.20000002, 0.20000002],\n",
              "          [0.12156864, 0.12156864, 0.12156864],\n",
              "          ...,\n",
              "          [0.28235295, 0.28235295, 0.28235295],\n",
              "          [0.6784314 , 0.6784314 , 0.6784314 ],\n",
              "          [0.9176471 , 0.9176471 , 0.9176471 ]],\n",
              " \n",
              "         [[0.33333334, 0.33333334, 0.33333334],\n",
              "          [0.20000002, 0.20000002, 0.20000002],\n",
              "          [0.12156864, 0.12156864, 0.12156864],\n",
              "          ...,\n",
              "          [0.27450982, 0.27450982, 0.27450982],\n",
              "          [0.67058825, 0.67058825, 0.67058825],\n",
              "          [0.91372555, 0.91372555, 0.91372555]],\n",
              " \n",
              "         ...,\n",
              " \n",
              "         [[0.4784314 , 0.4784314 , 0.4784314 ],\n",
              "          [0.5019608 , 0.5019608 , 0.5019608 ],\n",
              "          [0.52156866, 0.52156866, 0.52156866],\n",
              "          ...,\n",
              "          [0.5254902 , 0.5254902 , 0.5254902 ],\n",
              "          [0.64705884, 0.64705884, 0.64705884],\n",
              "          [0.7254902 , 0.7254902 , 0.7254902 ]],\n",
              " \n",
              "         [[0.47058827, 0.47058827, 0.47058827],\n",
              "          [0.5019608 , 0.5019608 , 0.5019608 ],\n",
              "          [0.5411765 , 0.5411765 , 0.5411765 ],\n",
              "          ...,\n",
              "          [0.5411765 , 0.5411765 , 0.5411765 ],\n",
              "          [0.62352943, 0.62352943, 0.62352943],\n",
              "          [0.7294118 , 0.7294118 , 0.7294118 ]],\n",
              " \n",
              "         [[0.47058827, 0.47058827, 0.47058827],\n",
              "          [0.48627454, 0.48627454, 0.48627454],\n",
              "          [0.5137255 , 0.5137255 , 0.5137255 ],\n",
              "          ...,\n",
              "          [0.5137255 , 0.5137255 , 0.5137255 ],\n",
              "          [0.5529412 , 0.5529412 , 0.5529412 ],\n",
              "          [0.7137255 , 0.7137255 , 0.7137255 ]]],\n",
              " \n",
              " \n",
              "        [[[0.1764706 , 0.1764706 , 0.1764706 ],\n",
              "          [0.20392159, 0.20392159, 0.20392159],\n",
              "          [0.21960786, 0.21960786, 0.21960786],\n",
              "          ...,\n",
              "          [0.08235294, 0.08235294, 0.08235294],\n",
              "          [0.08235294, 0.08235294, 0.08235294],\n",
              "          [0.09803922, 0.09803922, 0.09803922]],\n",
              " \n",
              "         [[0.22352943, 0.22352943, 0.22352943],\n",
              "          [0.21176472, 0.21176472, 0.21176472],\n",
              "          [0.21960786, 0.21960786, 0.21960786],\n",
              "          ...,\n",
              "          [0.09803922, 0.09803922, 0.09803922],\n",
              "          [0.09019608, 0.09019608, 0.09019608],\n",
              "          [0.10196079, 0.10196079, 0.10196079]],\n",
              " \n",
              "         [[0.23137257, 0.23137257, 0.23137257],\n",
              "          [0.227451  , 0.227451  , 0.227451  ],\n",
              "          [0.2392157 , 0.2392157 , 0.2392157 ],\n",
              "          ...,\n",
              "          [0.09019608, 0.09019608, 0.09019608],\n",
              "          [0.09803922, 0.09803922, 0.09803922],\n",
              "          [0.09411766, 0.09411766, 0.09411766]],\n",
              " \n",
              "         ...,\n",
              " \n",
              "         [[0.34117648, 0.34117648, 0.34117648],\n",
              "          [0.38823533, 0.38823533, 0.38823533],\n",
              "          [0.5372549 , 0.5372549 , 0.5372549 ],\n",
              "          ...,\n",
              "          [0.04313726, 0.04313726, 0.04313726],\n",
              "          [0.04313726, 0.04313726, 0.04313726],\n",
              "          [0.04313726, 0.04313726, 0.04313726]],\n",
              " \n",
              "         [[0.32156864, 0.32156864, 0.32156864],\n",
              "          [0.37647063, 0.37647063, 0.37647063],\n",
              "          [0.5568628 , 0.5568628 , 0.5568628 ],\n",
              "          ...,\n",
              "          [0.04313726, 0.04313726, 0.04313726],\n",
              "          [0.04313726, 0.04313726, 0.04313726],\n",
              "          [0.04313726, 0.04313726, 0.04313726]],\n",
              " \n",
              "         [[0.4431373 , 0.4431373 , 0.4431373 ],\n",
              "          [0.38823533, 0.38823533, 0.38823533],\n",
              "          [0.5411765 , 0.5411765 , 0.5411765 ],\n",
              "          ...,\n",
              "          [0.04313726, 0.04313726, 0.04313726],\n",
              "          [0.04705883, 0.04705883, 0.04705883],\n",
              "          [0.04313726, 0.04313726, 0.04313726]]],\n",
              " \n",
              " \n",
              "        ...,\n",
              " \n",
              " \n",
              "        [[[0.        , 0.        , 0.        ],\n",
              "          [0.        , 0.        , 0.        ],\n",
              "          [0.        , 0.        , 0.        ],\n",
              "          ...,\n",
              "          [0.        , 0.        , 0.        ],\n",
              "          [0.        , 0.        , 0.        ],\n",
              "          [0.        , 0.        , 0.        ]],\n",
              " \n",
              "         [[0.        , 0.        , 0.        ],\n",
              "          [0.        , 0.        , 0.        ],\n",
              "          [0.        , 0.        , 0.        ],\n",
              "          ...,\n",
              "          [0.        , 0.        , 0.        ],\n",
              "          [0.        , 0.        , 0.        ],\n",
              "          [0.        , 0.        , 0.        ]],\n",
              " \n",
              "         [[0.        , 0.        , 0.        ],\n",
              "          [0.        , 0.        , 0.        ],\n",
              "          [0.        , 0.        , 0.        ],\n",
              "          ...,\n",
              "          [0.        , 0.        , 0.        ],\n",
              "          [0.        , 0.        , 0.        ],\n",
              "          [0.        , 0.        , 0.        ]],\n",
              " \n",
              "         ...,\n",
              " \n",
              "         [[0.        , 0.        , 0.        ],\n",
              "          [0.        , 0.        , 0.        ],\n",
              "          [0.        , 0.        , 0.        ],\n",
              "          ...,\n",
              "          [0.        , 0.        , 0.        ],\n",
              "          [0.        , 0.        , 0.        ],\n",
              "          [0.        , 0.        , 0.        ]],\n",
              " \n",
              "         [[0.        , 0.        , 0.        ],\n",
              "          [0.        , 0.        , 0.        ],\n",
              "          [0.        , 0.        , 0.        ],\n",
              "          ...,\n",
              "          [0.        , 0.        , 0.        ],\n",
              "          [0.        , 0.        , 0.        ],\n",
              "          [0.        , 0.        , 0.        ]],\n",
              " \n",
              "         [[0.        , 0.        , 0.        ],\n",
              "          [0.        , 0.        , 0.        ],\n",
              "          [0.        , 0.        , 0.        ],\n",
              "          ...,\n",
              "          [0.        , 0.        , 0.        ],\n",
              "          [0.        , 0.        , 0.        ],\n",
              "          [0.        , 0.        , 0.        ]]],\n",
              " \n",
              " \n",
              "        [[[0.        , 0.        , 0.        ],\n",
              "          [0.        , 0.        , 0.        ],\n",
              "          [0.        , 0.        , 0.        ],\n",
              "          ...,\n",
              "          [0.        , 0.        , 0.        ],\n",
              "          [0.        , 0.        , 0.        ],\n",
              "          [0.        , 0.        , 0.        ]],\n",
              " \n",
              "         [[0.        , 0.        , 0.        ],\n",
              "          [0.        , 0.        , 0.        ],\n",
              "          [0.        , 0.        , 0.        ],\n",
              "          ...,\n",
              "          [0.        , 0.        , 0.        ],\n",
              "          [0.        , 0.        , 0.        ],\n",
              "          [0.        , 0.        , 0.        ]],\n",
              " \n",
              "         [[0.        , 0.        , 0.        ],\n",
              "          [0.        , 0.        , 0.        ],\n",
              "          [0.        , 0.        , 0.        ],\n",
              "          ...,\n",
              "          [0.        , 0.        , 0.        ],\n",
              "          [0.        , 0.        , 0.        ],\n",
              "          [0.        , 0.        , 0.        ]],\n",
              " \n",
              "         ...,\n",
              " \n",
              "         [[0.        , 0.        , 0.        ],\n",
              "          [0.        , 0.        , 0.        ],\n",
              "          [0.        , 0.        , 0.        ],\n",
              "          ...,\n",
              "          [0.        , 0.        , 0.        ],\n",
              "          [0.        , 0.        , 0.        ],\n",
              "          [0.        , 0.        , 0.        ]],\n",
              " \n",
              "         [[0.        , 0.        , 0.        ],\n",
              "          [0.        , 0.        , 0.        ],\n",
              "          [0.        , 0.        , 0.        ],\n",
              "          ...,\n",
              "          [0.        , 0.        , 0.        ],\n",
              "          [0.        , 0.        , 0.        ],\n",
              "          [0.        , 0.        , 0.        ]],\n",
              " \n",
              "         [[0.        , 0.        , 0.        ],\n",
              "          [0.        , 0.        , 0.        ],\n",
              "          [0.        , 0.        , 0.        ],\n",
              "          ...,\n",
              "          [0.        , 0.        , 0.        ],\n",
              "          [0.        , 0.        , 0.        ],\n",
              "          [0.        , 0.        , 0.        ]]],\n",
              " \n",
              " \n",
              "        [[[0.        , 0.        , 0.        ],\n",
              "          [0.        , 0.        , 0.        ],\n",
              "          [0.        , 0.        , 0.        ],\n",
              "          ...,\n",
              "          [0.2901961 , 0.2901961 , 0.2901961 ],\n",
              "          [0.25490198, 0.25490198, 0.25490198],\n",
              "          [0.19607845, 0.19607845, 0.19607845]],\n",
              " \n",
              "         [[0.        , 0.        , 0.        ],\n",
              "          [0.        , 0.        , 0.        ],\n",
              "          [0.00784314, 0.00784314, 0.00784314],\n",
              "          ...,\n",
              "          [0.2784314 , 0.2784314 , 0.2784314 ],\n",
              "          [0.2509804 , 0.2509804 , 0.2509804 ],\n",
              "          [0.20784315, 0.20784315, 0.20784315]],\n",
              " \n",
              "         [[0.        , 0.        , 0.        ],\n",
              "          [0.        , 0.        , 0.        ],\n",
              "          [0.01568628, 0.01568628, 0.01568628],\n",
              "          ...,\n",
              "          [0.26666668, 0.26666668, 0.26666668],\n",
              "          [0.25490198, 0.25490198, 0.25490198],\n",
              "          [0.19215688, 0.19215688, 0.19215688]],\n",
              " \n",
              "         ...,\n",
              " \n",
              "         [[0.        , 0.        , 0.        ],\n",
              "          [0.        , 0.        , 0.        ],\n",
              "          [0.        , 0.        , 0.        ],\n",
              "          ...,\n",
              "          [0.        , 0.        , 0.        ],\n",
              "          [0.        , 0.        , 0.        ],\n",
              "          [0.        , 0.        , 0.        ]],\n",
              " \n",
              "         [[0.        , 0.        , 0.        ],\n",
              "          [0.        , 0.        , 0.        ],\n",
              "          [0.        , 0.        , 0.        ],\n",
              "          ...,\n",
              "          [0.        , 0.        , 0.        ],\n",
              "          [0.        , 0.        , 0.        ],\n",
              "          [0.        , 0.        , 0.        ]],\n",
              " \n",
              "         [[0.        , 0.        , 0.        ],\n",
              "          [0.        , 0.        , 0.        ],\n",
              "          [0.        , 0.        , 0.        ],\n",
              "          ...,\n",
              "          [0.        , 0.        , 0.        ],\n",
              "          [0.        , 0.        , 0.        ],\n",
              "          [0.        , 0.        , 0.        ]]]], dtype=float32),\n",
              " array([0., 0., 0., 0., 0., 0., 0., 0., 0., 0., 0., 0., 0., 0., 0., 0., 0.,\n",
              "        0., 0., 0., 0., 0., 0., 0., 0., 0., 0., 0., 0., 0., 1., 1.],\n",
              "       dtype=float32))"
            ]
          },
          "metadata": {},
          "execution_count": 17
        }
      ]
    },
    {
      "cell_type": "code",
      "source": [
        "test_set[0][0]"
      ],
      "metadata": {
        "colab": {
          "base_uri": "https://localhost:8080/"
        },
        "id": "j9dbtfVMsNqL",
        "outputId": "bc7abc16-5f5d-48dc-f81a-203a72080a23"
      },
      "execution_count": null,
      "outputs": [
        {
          "output_type": "execute_result",
          "data": {
            "text/plain": [
              "array([[[[0.07058824, 0.07058824, 0.07058824],\n",
              "         [0.06666667, 0.06666667, 0.06666667],\n",
              "         [0.06666667, 0.06666667, 0.06666667],\n",
              "         ...,\n",
              "         [0.00392157, 0.00392157, 0.00392157],\n",
              "         [0.00392157, 0.00392157, 0.00392157],\n",
              "         [0.00392157, 0.00392157, 0.00392157]],\n",
              "\n",
              "        [[0.06666667, 0.06666667, 0.06666667],\n",
              "         [0.06666667, 0.06666667, 0.06666667],\n",
              "         [0.06666667, 0.06666667, 0.06666667],\n",
              "         ...,\n",
              "         [0.00392157, 0.00392157, 0.00392157],\n",
              "         [0.00392157, 0.00392157, 0.00392157],\n",
              "         [0.00392157, 0.00392157, 0.00392157]],\n",
              "\n",
              "        [[0.06666667, 0.06666667, 0.06666667],\n",
              "         [0.06666667, 0.06666667, 0.06666667],\n",
              "         [0.06666667, 0.06666667, 0.06666667],\n",
              "         ...,\n",
              "         [0.00392157, 0.00392157, 0.00392157],\n",
              "         [0.00392157, 0.00392157, 0.00392157],\n",
              "         [0.00392157, 0.00392157, 0.00392157]],\n",
              "\n",
              "        ...,\n",
              "\n",
              "        [[0.29803923, 0.29803923, 0.29803923],\n",
              "         [0.34509805, 0.34509805, 0.34509805],\n",
              "         [0.37647063, 0.37647063, 0.37647063],\n",
              "         ...,\n",
              "         [0.26666668, 0.26666668, 0.26666668],\n",
              "         [0.227451  , 0.227451  , 0.227451  ],\n",
              "         [0.20000002, 0.20000002, 0.20000002]],\n",
              "\n",
              "        [[0.2784314 , 0.2784314 , 0.2784314 ],\n",
              "         [0.33333334, 0.33333334, 0.33333334],\n",
              "         [0.3647059 , 0.3647059 , 0.3647059 ],\n",
              "         ...,\n",
              "         [0.2627451 , 0.2627451 , 0.2627451 ],\n",
              "         [0.24313727, 0.24313727, 0.24313727],\n",
              "         [0.20392159, 0.20392159, 0.20392159]],\n",
              "\n",
              "        [[0.27450982, 0.27450982, 0.27450982],\n",
              "         [0.31764707, 0.31764707, 0.31764707],\n",
              "         [0.36078432, 0.36078432, 0.36078432],\n",
              "         ...,\n",
              "         [0.27058825, 0.27058825, 0.27058825],\n",
              "         [0.25882354, 0.25882354, 0.25882354],\n",
              "         [0.20392159, 0.20392159, 0.20392159]]],\n",
              "\n",
              "\n",
              "       [[[0.3254902 , 0.3254902 , 0.3254902 ],\n",
              "         [0.21960786, 0.21960786, 0.21960786],\n",
              "         [0.1254902 , 0.1254902 , 0.1254902 ],\n",
              "         ...,\n",
              "         [0.28627452, 0.28627452, 0.28627452],\n",
              "         [0.7058824 , 0.7058824 , 0.7058824 ],\n",
              "         [0.9294118 , 0.9294118 , 0.9294118 ]],\n",
              "\n",
              "        [[0.3372549 , 0.3372549 , 0.3372549 ],\n",
              "         [0.20000002, 0.20000002, 0.20000002],\n",
              "         [0.12156864, 0.12156864, 0.12156864],\n",
              "         ...,\n",
              "         [0.28235295, 0.28235295, 0.28235295],\n",
              "         [0.6784314 , 0.6784314 , 0.6784314 ],\n",
              "         [0.9176471 , 0.9176471 , 0.9176471 ]],\n",
              "\n",
              "        [[0.33333334, 0.33333334, 0.33333334],\n",
              "         [0.20000002, 0.20000002, 0.20000002],\n",
              "         [0.12156864, 0.12156864, 0.12156864],\n",
              "         ...,\n",
              "         [0.27450982, 0.27450982, 0.27450982],\n",
              "         [0.67058825, 0.67058825, 0.67058825],\n",
              "         [0.91372555, 0.91372555, 0.91372555]],\n",
              "\n",
              "        ...,\n",
              "\n",
              "        [[0.4784314 , 0.4784314 , 0.4784314 ],\n",
              "         [0.5019608 , 0.5019608 , 0.5019608 ],\n",
              "         [0.52156866, 0.52156866, 0.52156866],\n",
              "         ...,\n",
              "         [0.5254902 , 0.5254902 , 0.5254902 ],\n",
              "         [0.64705884, 0.64705884, 0.64705884],\n",
              "         [0.7254902 , 0.7254902 , 0.7254902 ]],\n",
              "\n",
              "        [[0.47058827, 0.47058827, 0.47058827],\n",
              "         [0.5019608 , 0.5019608 , 0.5019608 ],\n",
              "         [0.5411765 , 0.5411765 , 0.5411765 ],\n",
              "         ...,\n",
              "         [0.5411765 , 0.5411765 , 0.5411765 ],\n",
              "         [0.62352943, 0.62352943, 0.62352943],\n",
              "         [0.7294118 , 0.7294118 , 0.7294118 ]],\n",
              "\n",
              "        [[0.47058827, 0.47058827, 0.47058827],\n",
              "         [0.48627454, 0.48627454, 0.48627454],\n",
              "         [0.5137255 , 0.5137255 , 0.5137255 ],\n",
              "         ...,\n",
              "         [0.5137255 , 0.5137255 , 0.5137255 ],\n",
              "         [0.5529412 , 0.5529412 , 0.5529412 ],\n",
              "         [0.7137255 , 0.7137255 , 0.7137255 ]]],\n",
              "\n",
              "\n",
              "       [[[0.1764706 , 0.1764706 , 0.1764706 ],\n",
              "         [0.20392159, 0.20392159, 0.20392159],\n",
              "         [0.21960786, 0.21960786, 0.21960786],\n",
              "         ...,\n",
              "         [0.08235294, 0.08235294, 0.08235294],\n",
              "         [0.08235294, 0.08235294, 0.08235294],\n",
              "         [0.09803922, 0.09803922, 0.09803922]],\n",
              "\n",
              "        [[0.22352943, 0.22352943, 0.22352943],\n",
              "         [0.21176472, 0.21176472, 0.21176472],\n",
              "         [0.21960786, 0.21960786, 0.21960786],\n",
              "         ...,\n",
              "         [0.09803922, 0.09803922, 0.09803922],\n",
              "         [0.09019608, 0.09019608, 0.09019608],\n",
              "         [0.10196079, 0.10196079, 0.10196079]],\n",
              "\n",
              "        [[0.23137257, 0.23137257, 0.23137257],\n",
              "         [0.227451  , 0.227451  , 0.227451  ],\n",
              "         [0.2392157 , 0.2392157 , 0.2392157 ],\n",
              "         ...,\n",
              "         [0.09019608, 0.09019608, 0.09019608],\n",
              "         [0.09803922, 0.09803922, 0.09803922],\n",
              "         [0.09411766, 0.09411766, 0.09411766]],\n",
              "\n",
              "        ...,\n",
              "\n",
              "        [[0.34117648, 0.34117648, 0.34117648],\n",
              "         [0.38823533, 0.38823533, 0.38823533],\n",
              "         [0.5372549 , 0.5372549 , 0.5372549 ],\n",
              "         ...,\n",
              "         [0.04313726, 0.04313726, 0.04313726],\n",
              "         [0.04313726, 0.04313726, 0.04313726],\n",
              "         [0.04313726, 0.04313726, 0.04313726]],\n",
              "\n",
              "        [[0.32156864, 0.32156864, 0.32156864],\n",
              "         [0.37647063, 0.37647063, 0.37647063],\n",
              "         [0.5568628 , 0.5568628 , 0.5568628 ],\n",
              "         ...,\n",
              "         [0.04313726, 0.04313726, 0.04313726],\n",
              "         [0.04313726, 0.04313726, 0.04313726],\n",
              "         [0.04313726, 0.04313726, 0.04313726]],\n",
              "\n",
              "        [[0.4431373 , 0.4431373 , 0.4431373 ],\n",
              "         [0.38823533, 0.38823533, 0.38823533],\n",
              "         [0.5411765 , 0.5411765 , 0.5411765 ],\n",
              "         ...,\n",
              "         [0.04313726, 0.04313726, 0.04313726],\n",
              "         [0.04705883, 0.04705883, 0.04705883],\n",
              "         [0.04313726, 0.04313726, 0.04313726]]],\n",
              "\n",
              "\n",
              "       ...,\n",
              "\n",
              "\n",
              "       [[[0.        , 0.        , 0.        ],\n",
              "         [0.        , 0.        , 0.        ],\n",
              "         [0.        , 0.        , 0.        ],\n",
              "         ...,\n",
              "         [0.        , 0.        , 0.        ],\n",
              "         [0.        , 0.        , 0.        ],\n",
              "         [0.        , 0.        , 0.        ]],\n",
              "\n",
              "        [[0.        , 0.        , 0.        ],\n",
              "         [0.        , 0.        , 0.        ],\n",
              "         [0.        , 0.        , 0.        ],\n",
              "         ...,\n",
              "         [0.        , 0.        , 0.        ],\n",
              "         [0.        , 0.        , 0.        ],\n",
              "         [0.        , 0.        , 0.        ]],\n",
              "\n",
              "        [[0.        , 0.        , 0.        ],\n",
              "         [0.        , 0.        , 0.        ],\n",
              "         [0.        , 0.        , 0.        ],\n",
              "         ...,\n",
              "         [0.        , 0.        , 0.        ],\n",
              "         [0.        , 0.        , 0.        ],\n",
              "         [0.        , 0.        , 0.        ]],\n",
              "\n",
              "        ...,\n",
              "\n",
              "        [[0.        , 0.        , 0.        ],\n",
              "         [0.        , 0.        , 0.        ],\n",
              "         [0.        , 0.        , 0.        ],\n",
              "         ...,\n",
              "         [0.        , 0.        , 0.        ],\n",
              "         [0.        , 0.        , 0.        ],\n",
              "         [0.        , 0.        , 0.        ]],\n",
              "\n",
              "        [[0.        , 0.        , 0.        ],\n",
              "         [0.        , 0.        , 0.        ],\n",
              "         [0.        , 0.        , 0.        ],\n",
              "         ...,\n",
              "         [0.        , 0.        , 0.        ],\n",
              "         [0.        , 0.        , 0.        ],\n",
              "         [0.        , 0.        , 0.        ]],\n",
              "\n",
              "        [[0.        , 0.        , 0.        ],\n",
              "         [0.        , 0.        , 0.        ],\n",
              "         [0.        , 0.        , 0.        ],\n",
              "         ...,\n",
              "         [0.        , 0.        , 0.        ],\n",
              "         [0.        , 0.        , 0.        ],\n",
              "         [0.        , 0.        , 0.        ]]],\n",
              "\n",
              "\n",
              "       [[[0.        , 0.        , 0.        ],\n",
              "         [0.        , 0.        , 0.        ],\n",
              "         [0.        , 0.        , 0.        ],\n",
              "         ...,\n",
              "         [0.        , 0.        , 0.        ],\n",
              "         [0.        , 0.        , 0.        ],\n",
              "         [0.        , 0.        , 0.        ]],\n",
              "\n",
              "        [[0.        , 0.        , 0.        ],\n",
              "         [0.        , 0.        , 0.        ],\n",
              "         [0.        , 0.        , 0.        ],\n",
              "         ...,\n",
              "         [0.        , 0.        , 0.        ],\n",
              "         [0.        , 0.        , 0.        ],\n",
              "         [0.        , 0.        , 0.        ]],\n",
              "\n",
              "        [[0.        , 0.        , 0.        ],\n",
              "         [0.        , 0.        , 0.        ],\n",
              "         [0.        , 0.        , 0.        ],\n",
              "         ...,\n",
              "         [0.        , 0.        , 0.        ],\n",
              "         [0.        , 0.        , 0.        ],\n",
              "         [0.        , 0.        , 0.        ]],\n",
              "\n",
              "        ...,\n",
              "\n",
              "        [[0.        , 0.        , 0.        ],\n",
              "         [0.        , 0.        , 0.        ],\n",
              "         [0.        , 0.        , 0.        ],\n",
              "         ...,\n",
              "         [0.        , 0.        , 0.        ],\n",
              "         [0.        , 0.        , 0.        ],\n",
              "         [0.        , 0.        , 0.        ]],\n",
              "\n",
              "        [[0.        , 0.        , 0.        ],\n",
              "         [0.        , 0.        , 0.        ],\n",
              "         [0.        , 0.        , 0.        ],\n",
              "         ...,\n",
              "         [0.        , 0.        , 0.        ],\n",
              "         [0.        , 0.        , 0.        ],\n",
              "         [0.        , 0.        , 0.        ]],\n",
              "\n",
              "        [[0.        , 0.        , 0.        ],\n",
              "         [0.        , 0.        , 0.        ],\n",
              "         [0.        , 0.        , 0.        ],\n",
              "         ...,\n",
              "         [0.        , 0.        , 0.        ],\n",
              "         [0.        , 0.        , 0.        ],\n",
              "         [0.        , 0.        , 0.        ]]],\n",
              "\n",
              "\n",
              "       [[[0.        , 0.        , 0.        ],\n",
              "         [0.        , 0.        , 0.        ],\n",
              "         [0.        , 0.        , 0.        ],\n",
              "         ...,\n",
              "         [0.2901961 , 0.2901961 , 0.2901961 ],\n",
              "         [0.25490198, 0.25490198, 0.25490198],\n",
              "         [0.19607845, 0.19607845, 0.19607845]],\n",
              "\n",
              "        [[0.        , 0.        , 0.        ],\n",
              "         [0.        , 0.        , 0.        ],\n",
              "         [0.00784314, 0.00784314, 0.00784314],\n",
              "         ...,\n",
              "         [0.2784314 , 0.2784314 , 0.2784314 ],\n",
              "         [0.2509804 , 0.2509804 , 0.2509804 ],\n",
              "         [0.20784315, 0.20784315, 0.20784315]],\n",
              "\n",
              "        [[0.        , 0.        , 0.        ],\n",
              "         [0.        , 0.        , 0.        ],\n",
              "         [0.01568628, 0.01568628, 0.01568628],\n",
              "         ...,\n",
              "         [0.26666668, 0.26666668, 0.26666668],\n",
              "         [0.25490198, 0.25490198, 0.25490198],\n",
              "         [0.19215688, 0.19215688, 0.19215688]],\n",
              "\n",
              "        ...,\n",
              "\n",
              "        [[0.        , 0.        , 0.        ],\n",
              "         [0.        , 0.        , 0.        ],\n",
              "         [0.        , 0.        , 0.        ],\n",
              "         ...,\n",
              "         [0.        , 0.        , 0.        ],\n",
              "         [0.        , 0.        , 0.        ],\n",
              "         [0.        , 0.        , 0.        ]],\n",
              "\n",
              "        [[0.        , 0.        , 0.        ],\n",
              "         [0.        , 0.        , 0.        ],\n",
              "         [0.        , 0.        , 0.        ],\n",
              "         ...,\n",
              "         [0.        , 0.        , 0.        ],\n",
              "         [0.        , 0.        , 0.        ],\n",
              "         [0.        , 0.        , 0.        ]],\n",
              "\n",
              "        [[0.        , 0.        , 0.        ],\n",
              "         [0.        , 0.        , 0.        ],\n",
              "         [0.        , 0.        , 0.        ],\n",
              "         ...,\n",
              "         [0.        , 0.        , 0.        ],\n",
              "         [0.        , 0.        , 0.        ],\n",
              "         [0.        , 0.        , 0.        ]]]], dtype=float32)"
            ]
          },
          "metadata": {},
          "execution_count": 18
        }
      ]
    },
    {
      "cell_type": "code",
      "source": [
        "test_set[0][1]"
      ],
      "metadata": {
        "colab": {
          "base_uri": "https://localhost:8080/"
        },
        "id": "5QcvZOqHsYFw",
        "outputId": "7efcf61a-9e63-40d3-972a-a1bc738de5f3"
      },
      "execution_count": null,
      "outputs": [
        {
          "output_type": "execute_result",
          "data": {
            "text/plain": [
              "array([0., 0., 0., 0., 0., 0., 0., 0., 0., 0., 0., 0., 0., 0., 0., 0., 0.,\n",
              "       0., 0., 0., 0., 0., 0., 0., 0., 0., 0., 0., 0., 0., 1., 1.],\n",
              "      dtype=float32)"
            ]
          },
          "metadata": {},
          "execution_count": 19
        }
      ]
    },
    {
      "cell_type": "code",
      "source": [
        "test_set[0][1].shape"
      ],
      "metadata": {
        "colab": {
          "base_uri": "https://localhost:8080/"
        },
        "id": "agvZUh4rvdzq",
        "outputId": "b87cc586-8446-402d-c1c8-6aaea94a3cf5"
      },
      "execution_count": null,
      "outputs": [
        {
          "output_type": "execute_result",
          "data": {
            "text/plain": [
              "(32,)"
            ]
          },
          "metadata": {},
          "execution_count": 35
        }
      ]
    },
    {
      "cell_type": "code",
      "source": [
        "test_set[1][1]"
      ],
      "metadata": {
        "colab": {
          "base_uri": "https://localhost:8080/"
        },
        "id": "IKJKqUlVsdb9",
        "outputId": "ae732248-e33f-4b94-b07b-67fe8ae61e47"
      },
      "execution_count": null,
      "outputs": [
        {
          "output_type": "execute_result",
          "data": {
            "text/plain": [
              "array([1., 1., 1., 1., 1., 1., 1., 1., 1., 1., 1., 1., 1., 1., 1., 1., 1.,\n",
              "       1., 1., 1., 1., 1., 1., 1., 1., 1., 1., 1.], dtype=float32)"
            ]
          },
          "metadata": {},
          "execution_count": 20
        }
      ]
    },
    {
      "cell_type": "code",
      "source": [
        "test_set[1][1].shape"
      ],
      "metadata": {
        "colab": {
          "base_uri": "https://localhost:8080/"
        },
        "id": "iobQq3j6vV_8",
        "outputId": "05311f87-e8d1-44d3-910c-97c61531b4b3"
      },
      "execution_count": null,
      "outputs": [
        {
          "output_type": "execute_result",
          "data": {
            "text/plain": [
              "(28,)"
            ]
          },
          "metadata": {},
          "execution_count": 33
        }
      ]
    },
    {
      "cell_type": "code",
      "source": [
        "test_set[0][0][0]"
      ],
      "metadata": {
        "colab": {
          "base_uri": "https://localhost:8080/"
        },
        "id": "fqgQFSvQubWT",
        "outputId": "b3b8736a-f73e-456f-e2f3-1268ac295cff"
      },
      "execution_count": null,
      "outputs": [
        {
          "output_type": "execute_result",
          "data": {
            "text/plain": [
              "array([[[0.07058824, 0.07058824, 0.07058824],\n",
              "        [0.06666667, 0.06666667, 0.06666667],\n",
              "        [0.06666667, 0.06666667, 0.06666667],\n",
              "        ...,\n",
              "        [0.00392157, 0.00392157, 0.00392157],\n",
              "        [0.00392157, 0.00392157, 0.00392157],\n",
              "        [0.00392157, 0.00392157, 0.00392157]],\n",
              "\n",
              "       [[0.06666667, 0.06666667, 0.06666667],\n",
              "        [0.06666667, 0.06666667, 0.06666667],\n",
              "        [0.06666667, 0.06666667, 0.06666667],\n",
              "        ...,\n",
              "        [0.00392157, 0.00392157, 0.00392157],\n",
              "        [0.00392157, 0.00392157, 0.00392157],\n",
              "        [0.00392157, 0.00392157, 0.00392157]],\n",
              "\n",
              "       [[0.06666667, 0.06666667, 0.06666667],\n",
              "        [0.06666667, 0.06666667, 0.06666667],\n",
              "        [0.06666667, 0.06666667, 0.06666667],\n",
              "        ...,\n",
              "        [0.00392157, 0.00392157, 0.00392157],\n",
              "        [0.00392157, 0.00392157, 0.00392157],\n",
              "        [0.00392157, 0.00392157, 0.00392157]],\n",
              "\n",
              "       ...,\n",
              "\n",
              "       [[0.29803923, 0.29803923, 0.29803923],\n",
              "        [0.34509805, 0.34509805, 0.34509805],\n",
              "        [0.37647063, 0.37647063, 0.37647063],\n",
              "        ...,\n",
              "        [0.26666668, 0.26666668, 0.26666668],\n",
              "        [0.227451  , 0.227451  , 0.227451  ],\n",
              "        [0.20000002, 0.20000002, 0.20000002]],\n",
              "\n",
              "       [[0.2784314 , 0.2784314 , 0.2784314 ],\n",
              "        [0.33333334, 0.33333334, 0.33333334],\n",
              "        [0.3647059 , 0.3647059 , 0.3647059 ],\n",
              "        ...,\n",
              "        [0.2627451 , 0.2627451 , 0.2627451 ],\n",
              "        [0.24313727, 0.24313727, 0.24313727],\n",
              "        [0.20392159, 0.20392159, 0.20392159]],\n",
              "\n",
              "       [[0.27450982, 0.27450982, 0.27450982],\n",
              "        [0.31764707, 0.31764707, 0.31764707],\n",
              "        [0.36078432, 0.36078432, 0.36078432],\n",
              "        ...,\n",
              "        [0.27058825, 0.27058825, 0.27058825],\n",
              "        [0.25882354, 0.25882354, 0.25882354],\n",
              "        [0.20392159, 0.20392159, 0.20392159]]], dtype=float32)"
            ]
          },
          "metadata": {},
          "execution_count": 30
        }
      ]
    },
    {
      "cell_type": "code",
      "source": [
        "test_set[0][0][0].shape"
      ],
      "metadata": {
        "colab": {
          "base_uri": "https://localhost:8080/"
        },
        "id": "GoKNgM_4uKDt",
        "outputId": "c5bbc3b7-5762-4d7f-aff4-a43507afc17f"
      },
      "execution_count": null,
      "outputs": [
        {
          "output_type": "execute_result",
          "data": {
            "text/plain": [
              "(224, 224, 3)"
            ]
          },
          "metadata": {},
          "execution_count": 29
        }
      ]
    },
    {
      "cell_type": "code",
      "source": [
        "len(test_set)"
      ],
      "metadata": {
        "colab": {
          "base_uri": "https://localhost:8080/"
        },
        "id": "nULmtAfDujX9",
        "outputId": "5b1e564a-43dc-4b99-d3a0-256e1761a5f1"
      },
      "execution_count": null,
      "outputs": [
        {
          "output_type": "execute_result",
          "data": {
            "text/plain": [
              "2"
            ]
          },
          "metadata": {},
          "execution_count": 31
        }
      ]
    },
    {
      "cell_type": "code",
      "source": [
        "len(train_set)"
      ],
      "metadata": {
        "colab": {
          "base_uri": "https://localhost:8080/"
        },
        "id": "xD4cbQWmuo3d",
        "outputId": "d720efc2-cbab-4787-c330-6f0b9274b833"
      },
      "execution_count": null,
      "outputs": [
        {
          "output_type": "execute_result",
          "data": {
            "text/plain": [
              "7"
            ]
          },
          "metadata": {},
          "execution_count": 32
        }
      ]
    },
    {
      "cell_type": "code",
      "metadata": {
        "id": "ikSmGYjTmJzA"
      },
      "source": [
        "model=keras.Sequential()\n",
        "model.add(Conv2D(96, kernel_size=(11, 11), strides=(4,4), padding=\"same\", activation='relu', input_shape=(224,224,3)))\n",
        "model.add(MaxPooling2D(pool_size=(3, 3),strides=(2,2))) \n",
        "model.add(Conv2D(256, (5, 5),strides=(1,1),padding=\"same\", activation='relu'))\n",
        "model.add(MaxPooling2D(pool_size=(3, 3),strides=(2,2)))\n",
        "model.add(Conv2D(384, (3, 3),strides=(1,1), padding=\"same\", activation='relu'))\n",
        "model.add(Conv2D(384, (3, 3),strides=(1,1), padding=\"same\", activation='relu'))\n",
        "model.add(Conv2D(384, (3, 3),strides=(1,1), padding=\"same\", activation='relu'))\n",
        "model.add(MaxPooling2D(pool_size=(3, 3),strides=(2,2),padding=\"same\")) \n",
        "model.add(Flatten()) \n",
        "model.add(Dense(4096, activation='relu')) \n",
        "model.add(Dense(4096, activation='relu')) \n",
        "model.add(Dense(1, activation='sigmoid'))"
      ],
      "execution_count": null,
      "outputs": []
    },
    {
      "cell_type": "code",
      "metadata": {
        "colab": {
          "base_uri": "https://localhost:8080/"
        },
        "id": "0qAMuSdvyf9Z",
        "outputId": "3a22d6dd-098c-4385-eede-5fa906ce17b2"
      },
      "source": [
        "model.compile(loss=keras.losses.binary_crossentropy, optimizer=\"sgd\", metrics=['accuracy'])\n",
        "model.summary()"
      ],
      "execution_count": null,
      "outputs": [
        {
          "output_type": "stream",
          "name": "stdout",
          "text": [
            "Model: \"sequential\"\n",
            "_________________________________________________________________\n",
            " Layer (type)                Output Shape              Param #   \n",
            "=================================================================\n",
            " conv2d (Conv2D)             (None, 56, 56, 96)        34944     \n",
            "                                                                 \n",
            " max_pooling2d (MaxPooling2D  (None, 27, 27, 96)       0         \n",
            " )                                                               \n",
            "                                                                 \n",
            " conv2d_1 (Conv2D)           (None, 27, 27, 256)       614656    \n",
            "                                                                 \n",
            " max_pooling2d_1 (MaxPooling  (None, 13, 13, 256)      0         \n",
            " 2D)                                                             \n",
            "                                                                 \n",
            " conv2d_2 (Conv2D)           (None, 13, 13, 384)       885120    \n",
            "                                                                 \n",
            " conv2d_3 (Conv2D)           (None, 13, 13, 384)       1327488   \n",
            "                                                                 \n",
            " conv2d_4 (Conv2D)           (None, 13, 13, 384)       1327488   \n",
            "                                                                 \n",
            " max_pooling2d_2 (MaxPooling  (None, 7, 7, 384)        0         \n",
            " 2D)                                                             \n",
            "                                                                 \n",
            " flatten (Flatten)           (None, 18816)             0         \n",
            "                                                                 \n",
            " dense (Dense)               (None, 4096)              77074432  \n",
            "                                                                 \n",
            " dense_1 (Dense)             (None, 4096)              16781312  \n",
            "                                                                 \n",
            " dense_2 (Dense)             (None, 1)                 4097      \n",
            "                                                                 \n",
            "=================================================================\n",
            "Total params: 98,049,537\n",
            "Trainable params: 98,049,537\n",
            "Non-trainable params: 0\n",
            "_________________________________________________________________\n"
          ]
        }
      ]
    },
    {
      "cell_type": "code",
      "metadata": {
        "scrolled": true,
        "id": "CqsTHqtGmJzH",
        "colab": {
          "base_uri": "https://localhost:8080/"
        },
        "outputId": "e0e4cf0d-cce2-4c60-a667-d1bd88fdb645"
      },
      "source": [
        "model.fit( train_set, epochs=10,validation_data=test_set,steps_per_epoch=len(train_set),validation_steps=len(test_set))\n"
      ],
      "execution_count": null,
      "outputs": [
        {
          "output_type": "stream",
          "name": "stdout",
          "text": [
            "Epoch 1/10\n",
            "7/7 [==============================] - 54s 8s/step - loss: 0.7040 - accuracy: 0.3571 - val_loss: 0.6878 - val_accuracy: 0.5000\n",
            "Epoch 2/10\n",
            "7/7 [==============================] - 49s 7s/step - loss: 0.6981 - accuracy: 0.5000 - val_loss: 0.6866 - val_accuracy: 0.5000\n",
            "Epoch 3/10\n",
            "7/7 [==============================] - 49s 7s/step - loss: 0.6953 - accuracy: 0.5000 - val_loss: 0.6837 - val_accuracy: 0.7167\n",
            "Epoch 4/10\n",
            "7/7 [==============================] - 46s 7s/step - loss: 0.6925 - accuracy: 0.5402 - val_loss: 0.6809 - val_accuracy: 0.5167\n",
            "Epoch 5/10\n",
            "7/7 [==============================] - 47s 7s/step - loss: 0.6904 - accuracy: 0.5670 - val_loss: 0.6787 - val_accuracy: 0.9333\n",
            "Epoch 6/10\n",
            "7/7 [==============================] - 46s 7s/step - loss: 0.6884 - accuracy: 0.6607 - val_loss: 0.6763 - val_accuracy: 0.5167\n",
            "Epoch 7/10\n",
            "7/7 [==============================] - 47s 7s/step - loss: 0.6851 - accuracy: 0.5179 - val_loss: 0.6738 - val_accuracy: 0.9333\n",
            "Epoch 8/10\n",
            "7/7 [==============================] - 48s 7s/step - loss: 0.6855 - accuracy: 0.5625 - val_loss: 0.6699 - val_accuracy: 0.9500\n",
            "Epoch 9/10\n",
            "7/7 [==============================] - 47s 7s/step - loss: 0.6825 - accuracy: 0.6250 - val_loss: 0.6649 - val_accuracy: 0.8333\n",
            "Epoch 10/10\n",
            "7/7 [==============================] - 48s 7s/step - loss: 0.6795 - accuracy: 0.6562 - val_loss: 0.6585 - val_accuracy: 0.9500\n"
          ]
        },
        {
          "output_type": "execute_result",
          "data": {
            "text/plain": [
              "<keras.callbacks.History at 0x7f9fa2a30750>"
            ]
          },
          "metadata": {},
          "execution_count": 36
        }
      ]
    },
    {
      "cell_type": "code",
      "source": [
        "model.evaluate(train_set)"
      ],
      "metadata": {
        "id": "6pGJukA___hs",
        "colab": {
          "base_uri": "https://localhost:8080/"
        },
        "outputId": "7d7c6b52-65eb-4db1-e134-0f76d4b347ba"
      },
      "execution_count": null,
      "outputs": [
        {
          "output_type": "stream",
          "name": "stdout",
          "text": [
            "7/7 [==============================] - 15s 2s/step - loss: 0.6574 - accuracy: 0.9777\n"
          ]
        },
        {
          "output_type": "execute_result",
          "data": {
            "text/plain": [
              "[0.6573590040206909, 0.9776785969734192]"
            ]
          },
          "metadata": {},
          "execution_count": 37
        }
      ]
    },
    {
      "cell_type": "code",
      "source": [
        "model.evaluate(test_set)"
      ],
      "metadata": {
        "id": "YmLe0xdsDAoY",
        "colab": {
          "base_uri": "https://localhost:8080/"
        },
        "outputId": "430a9e31-44f6-4c6c-f219-aaaa5d43ee4d"
      },
      "execution_count": null,
      "outputs": [
        {
          "output_type": "stream",
          "name": "stdout",
          "text": [
            "2/2 [==============================] - 5s 2s/step - loss: 0.6585 - accuracy: 0.9500\n"
          ]
        },
        {
          "output_type": "execute_result",
          "data": {
            "text/plain": [
              "[0.6584880352020264, 0.949999988079071]"
            ]
          },
          "metadata": {},
          "execution_count": 38
        }
      ]
    },
    {
      "cell_type": "code",
      "source": [
        "from google.colab import drive\n",
        "drive.mount('/content/drive')\n",
        "from keras.models import save_model\n",
        "model.save('/content/drive/MyDrive/SavedModels/AlexNet_Covid19_binary.h5')"
      ],
      "metadata": {
        "id": "uXNF4WA2ND4X",
        "colab": {
          "base_uri": "https://localhost:8080/"
        },
        "outputId": "7a595da9-1d63-4a83-e2b7-c334824eaa7a"
      },
      "execution_count": null,
      "outputs": [
        {
          "output_type": "stream",
          "name": "stdout",
          "text": [
            "Mounted at /content/drive\n"
          ]
        }
      ]
    },
    {
      "cell_type": "code",
      "source": [
        "y_pred= (model.predict(test_set)>=0.5).astype(int)"
      ],
      "metadata": {
        "id": "nSHWFjmUnpPL"
      },
      "execution_count": null,
      "outputs": []
    },
    {
      "cell_type": "code",
      "source": [
        "from sklearn.metrics import confusion_matrix, accuracy_score\n",
        "print(confusion_matrix(test_set.labels,y_pred))\n",
        "print(accuracy_score(test_set.labels,y_pred)*100)\n"
      ],
      "metadata": {
        "id": "awfdZ9GwMunx",
        "colab": {
          "base_uri": "https://localhost:8080/"
        },
        "outputId": "7e9061c7-d215-4748-8976-bd58ad0d5f3a"
      },
      "execution_count": null,
      "outputs": [
        {
          "output_type": "stream",
          "name": "stdout",
          "text": [
            "[[28  2]\n",
            " [ 1 29]]\n",
            "95.0\n"
          ]
        }
      ]
    }
  ]
}